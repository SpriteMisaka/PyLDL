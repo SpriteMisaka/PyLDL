{
 "cells": [
  {
   "cell_type": "markdown",
   "id": "ad3086af-f9cc-4da6-bd11-36722837ccb3",
   "metadata": {},
   "source": [
    "The code in `pyldl.applications.emphasis_selection` is basically an unofficial implementation of the paper \"Learning Emphasis Selection for Written Text in Visual Media from Crowd-Sourced Label Distributions\" (*ACL* 2019)."
   ]
  },
  {
   "cell_type": "code",
   "execution_count": 1,
   "id": "6db40940-cdb7-4bae-9dc7-cf8ba320e4d0",
   "metadata": {},
   "outputs": [],
   "source": [
    "import pyldl.applications.emphasis_selection as es\n",
    "from pyldl.utils import LDLEarlyStopping"
   ]
  },
  {
   "cell_type": "code",
   "execution_count": 2,
   "id": "a672bc77-ff53-41b9-8a98-de82a2839e86",
   "metadata": {},
   "outputs": [],
   "source": [
    "from sklearn.model_selection import train_test_split\n",
    "from keras.optimizers import Adam"
   ]
  },
  {
   "cell_type": "code",
   "execution_count": 3,
   "id": "ef4fb3d1-98aa-4991-aed4-b37e0264c505",
   "metadata": {},
   "outputs": [],
   "source": [
    "words, freqs = es.load_semeval2020('./SemEval2020_Task10_Emphasis_Selection/')"
   ]
  },
  {
   "cell_type": "code",
   "execution_count": 4,
   "id": "3e582c3f-f405-4879-8cbc-04ca1eb21974",
   "metadata": {},
   "outputs": [
    {
     "data": {
      "text/html": [
       "<span style='background-color:rgba(255, 68, 68, 0.0)'>Save</span> <span style='background-color:rgba(255, 68, 68, 0.0)'>the</span> <span style='background-color:rgba(255, 68, 68, 0.0)'>Date</span><br><span style='background-color:rgba(255, 68, 68, 0.0)'>The</span> <span style='background-color:rgba(255, 68, 68, 0.0)'>habit</span> <span style='background-color:rgba(255, 68, 68, 0.0)'>of</span> <span style='background-color:rgba(255, 68, 68, 0.0)'>persistence</span> <span style='background-color:rgba(255, 68, 68, 0.0)'>is</span> <span style='background-color:rgba(255, 68, 68, 0.0)'>the</span> <span style='background-color:rgba(255, 68, 68, 0.0)'>habit</span> <span style='background-color:rgba(255, 68, 68, 0.0)'>of</span> <span style='background-color:rgba(255, 68, 68, 0.0)'>victory</span><span style='background-color:rgba(255, 68, 68, 0.0)'>.</span><br><span style='background-color:rgba(255, 68, 68, 0.0)'>What</span><span style='background-color:rgba(255, 68, 68, 0.0)'>'s</span> <span style='background-color:rgba(255, 68, 68, 0.0)'>dangerous</span> <span style='background-color:rgba(255, 68, 68, 0.0)'>is</span> <span style='background-color:rgba(255, 68, 68, 0.0)'>not</span> <span style='background-color:rgba(255, 68, 68, 0.0)'>to</span> <span style='background-color:rgba(255, 68, 68, 0.0)'>evolve</span><span style='background-color:rgba(255, 68, 68, 0.0)'>.</span><br><span style='background-color:rgba(255, 68, 68, 0.0)'>UN</span> <span style='background-color:rgba(255, 68, 68, 0.0)'>REAL</span><br><span style='background-color:rgba(255, 68, 68, 0.0)'>If</span> <span style='background-color:rgba(255, 68, 68, 0.0)'>you</span> <span style='background-color:rgba(255, 68, 68, 0.0)'>have</span> <span style='background-color:rgba(255, 68, 68, 0.0)'>the</span> <span style='background-color:rgba(255, 68, 68, 0.0)'>ability</span> <span style='background-color:rgba(255, 68, 68, 0.0)'>to</span> <span style='background-color:rgba(255, 68, 68, 0.0)'>love</span><span style='background-color:rgba(255, 68, 68, 0.0)'>,</span> <span style='background-color:rgba(255, 68, 68, 0.0)'>love</span> <span style='background-color:rgba(255, 68, 68, 0.0)'>yourself</span> <span style='background-color:rgba(255, 68, 68, 0.0)'>first</span><span style='background-color:rgba(255, 68, 68, 0.0)'>.</span>"
      ],
      "text/plain": [
       "<IPython.core.display.HTML object>"
      ]
     },
     "metadata": {},
     "output_type": "display_data"
    }
   ],
   "source": [
    "es.visualization(words[:5])"
   ]
  },
  {
   "cell_type": "code",
   "execution_count": 5,
   "id": "6a0d42f3-ee19-449c-877e-1ff52895f79c",
   "metadata": {},
   "outputs": [],
   "source": [
    "words_train, words_test, freqs_train, freqs_test = train_test_split(\n",
    "    words, freqs, test_size=.1, random_state=0\n",
    ")"
   ]
  },
  {
   "cell_type": "code",
   "execution_count": 6,
   "id": "d9ec4d74-06ab-462f-a3c9-b4db4b6ef0d3",
   "metadata": {},
   "outputs": [],
   "source": [
    "X, D, tokenizer, maxlen = es.preprocessing(words_train, freqs_train)"
   ]
  },
  {
   "cell_type": "code",
   "execution_count": 7,
   "id": "6bfc58f5-9c6b-4181-91a3-fabfae988e69",
   "metadata": {},
   "outputs": [],
   "source": [
    "embeddings_matrix = es.load_glove('./glove.6B/', tokenizer, embedding_dim=100)"
   ]
  },
  {
   "cell_type": "code",
   "execution_count": 8,
   "id": "8bc0da3e-40cb-4071-97ff-711ce37cfd14",
   "metadata": {},
   "outputs": [],
   "source": [
    "X_train, X_val, D_train, D_val = train_test_split(X, D, test_size=.1, random_state=0)"
   ]
  },
  {
   "cell_type": "code",
   "execution_count": 9,
   "id": "2197e916-2d3d-410d-8cc5-b670410f15db",
   "metadata": {},
   "outputs": [],
   "source": [
    "model = es.DL_BiLSTM(tokenizer, embeddings_matrix, n_hidden=2048)"
   ]
  },
  {
   "cell_type": "code",
   "execution_count": 10,
   "id": "9b287696-7a62-400d-ae12-50310936f7e2",
   "metadata": {},
   "outputs": [
    {
     "name": "stdout",
     "output_type": "stream",
     "text": [
      "\u001b[1m1000/1000\u001b[0m \u001b[32m━━━━━━━━━━━━━━━━━━━━\u001b[0m\u001b[37m\u001b[0m \u001b[1m2410s\u001b[0m 2s/step - loss: 56.7350 - zero_one_loss: 0.5709\n"
     ]
    }
   ],
   "source": [
    "model.fit(X_train, D_train, verbose=1, optimizer=Adam(1e-3), batch_size=64,\n",
    "          X_val=X_val, D_val=D_val, callbacks=[LDLEarlyStopping(monitor='zero_one_loss', patience=None)]);"
   ]
  },
  {
   "cell_type": "code",
   "execution_count": 11,
   "id": "ae06966d-c856-49d1-97ce-8424d73433c7",
   "metadata": {},
   "outputs": [],
   "source": [
    "X_test, D_test = es.preprocessing(words_test, freqs_test, tokenizer, maxlen)"
   ]
  },
  {
   "cell_type": "code",
   "execution_count": 12,
   "id": "519485b7-a581-47ab-b71c-5b2e5c684a24",
   "metadata": {},
   "outputs": [
    {
     "name": "stdout",
     "output_type": "stream",
     "text": [
      "top_k: [0.0185, 0.0473, 0.0772, 0.1105]\n",
      "match_m: [0.3600, 0.4727, 0.5273, 0.5800]\n",
      "max_roc_auc: 0.6788\n"
     ]
    }
   ],
   "source": [
    "scores = model.score(X_test, D_test, return_dict=True)\n",
    "for (k, v) in scores.items():\n",
    "    print(f\"{k}: \", end='')\n",
    "    if isinstance(v, list):\n",
    "        print(\"[\" + \", \".join(f\"{i:.4f}\" for i in v) + \"]\")\n",
    "    else:\n",
    "        print(f\"{v:.4f}\")"
   ]
  },
  {
   "cell_type": "code",
   "execution_count": 13,
   "id": "d9ffbe72-14ae-4c06-bbd6-886c368aa8a6",
   "metadata": {},
   "outputs": [],
   "source": [
    "D_pred = model.predict(X_test)"
   ]
  },
  {
   "cell_type": "code",
   "execution_count": 14,
   "id": "03dc25bd-698f-4fbb-ac93-4d41c0841f8e",
   "metadata": {},
   "outputs": [
    {
     "data": {
      "text/html": [
       "<span style='background-color:rgba(255, 68, 68, 0.9993651509284973)'>Organic</span> <span style='background-color:rgba(255, 68, 68, 0.0)'>Symmetry</span><br><span style='background-color:rgba(255, 68, 68, 0.3637913167476654)'>Begin</span> <span style='background-color:rgba(255, 68, 68, 0.4357532560825348)'>now</span> <span style='background-color:rgba(255, 68, 68, 0.0)'>to</span> <span style='background-color:rgba(255, 68, 68, 0.29024890065193176)'>be</span> <span style='background-color:rgba(255, 68, 68, 0.0)'>what</span> <span style='background-color:rgba(255, 68, 68, 0.0)'>you</span> <span style='background-color:rgba(255, 68, 68, 0.0)'>will</span> <span style='background-color:rgba(255, 68, 68, 0.0)'>be</span> <span style='background-color:rgba(255, 68, 68, 0.5456310510635376)'>hereafter</span><span style='background-color:rgba(255, 68, 68, 0.0)'>.</span><br><span style='background-color:rgba(255, 68, 68, 0.0)'>Failure</span> <span style='background-color:rgba(255, 68, 68, 0.0)'>will</span> <span style='background-color:rgba(255, 68, 68, 0.23239456117153168)'>never</span> <span style='background-color:rgba(255, 68, 68, 0.0)'>overtake</span> <span style='background-color:rgba(255, 68, 68, 0.0)'>me</span> <span style='background-color:rgba(255, 68, 68, 0.0)'>if</span> <span style='background-color:rgba(255, 68, 68, 0.6888648867607117)'>my</span> <span style='background-color:rgba(255, 68, 68, 0.29870134592056274)'>determination</span> <span style='background-color:rgba(255, 68, 68, 0.6291533708572388)'>to</span> <span style='background-color:rgba(255, 68, 68, 0.0)'>succeed</span> <span style='background-color:rgba(255, 68, 68, 0.5836911201477051)'>is</span> <span style='background-color:rgba(255, 68, 68, 0.3104449212551117)'>strong</span> <span style='background-color:rgba(255, 68, 68, 0.0)'>enough</span><span style='background-color:rgba(255, 68, 68, 0.0)'>.</span><br><span style='background-color:rgba(255, 68, 68, 0.0)'>It</span> <span style='background-color:rgba(255, 68, 68, 0.0)'>does</span><span style='background-color:rgba(255, 68, 68, 0.20539145171642303)'>n't</span> <span style='background-color:rgba(255, 68, 68, 0.0)'>matter</span> <span style='background-color:rgba(255, 68, 68, 0.0)'>how</span> <span style='background-color:rgba(255, 68, 68, 0.47399914264678955)'>great</span> <span style='background-color:rgba(255, 68, 68, 0.2529275119304657)'>your</span> <span style='background-color:rgba(255, 68, 68, 0.4565260410308838)'>shoes</span> <span style='background-color:rgba(255, 68, 68, 0.3457651436328888)'>are</span> <span style='background-color:rgba(255, 68, 68, 0.0)'>if</span> <span style='background-color:rgba(255, 68, 68, 0.0)'>you</span> <span style='background-color:rgba(255, 68, 68, 0.2508988082408905)'>do</span><span style='background-color:rgba(255, 68, 68, 0.3494105339050293)'>n't</span> <span style='background-color:rgba(255, 68, 68, 0.5524272918701172)'>accomplish</span> <span style='background-color:rgba(255, 68, 68, 0.407233327627182)'>anything</span> <span style='background-color:rgba(255, 68, 68, 0.0)'>in</span> <span style='background-color:rgba(255, 68, 68, 0.23851266503334045)'>them</span><span style='background-color:rgba(255, 68, 68, 0.0)'>.</span><br><span style='background-color:rgba(255, 68, 68, 0.20385712385177612)'>For</span> <span style='background-color:rgba(255, 68, 68, 0.6746430993080139)'>Mother</span><span style='background-color:rgba(255, 68, 68, 0.652631402015686)'>'s</span> <span style='background-color:rgba(255, 68, 68, 0.5935530662536621)'>Day</span>"
      ],
      "text/plain": [
       "<IPython.core.display.HTML object>"
      ]
     },
     "metadata": {},
     "output_type": "display_data"
    }
   ],
   "source": [
    "es.visualization(words_test[:5], D_pred[:5])"
   ]
  },
  {
   "cell_type": "code",
   "execution_count": 15,
   "id": "4ab278bb-d166-408a-913a-d6a606e3bae9",
   "metadata": {},
   "outputs": [
    {
     "data": {
      "text/html": [
       "<span style='background-color:rgba(255, 68, 68, 0.8888888955116272)'>Organic</span> <span style='background-color:rgba(255, 68, 68, 0.5555555820465088)'>Symmetry</span><br><span style='background-color:rgba(255, 68, 68, 0.3333333432674408)'>Begin</span> <span style='background-color:rgba(255, 68, 68, 0.7777777910232544)'>now</span> <span style='background-color:rgba(255, 68, 68, 0.0)'>to</span> <span style='background-color:rgba(255, 68, 68, 0.0)'>be</span> <span style='background-color:rgba(255, 68, 68, 0.0)'>what</span> <span style='background-color:rgba(255, 68, 68, 0.0)'>you</span> <span style='background-color:rgba(255, 68, 68, 0.2222222238779068)'>will</span> <span style='background-color:rgba(255, 68, 68, 0.2222222238779068)'>be</span> <span style='background-color:rgba(255, 68, 68, 0.4444444477558136)'>hereafter</span><span style='background-color:rgba(255, 68, 68, 0.2222222238779068)'>.</span><br><span style='background-color:rgba(255, 68, 68, 0.6666666865348816)'>Failure</span> <span style='background-color:rgba(255, 68, 68, 0.0)'>will</span> <span style='background-color:rgba(255, 68, 68, 0.2222222238779068)'>never</span> <span style='background-color:rgba(255, 68, 68, 0.2222222238779068)'>overtake</span> <span style='background-color:rgba(255, 68, 68, 0.0)'>me</span> <span style='background-color:rgba(255, 68, 68, 0.0)'>if</span> <span style='background-color:rgba(255, 68, 68, 0.0)'>my</span> <span style='background-color:rgba(255, 68, 68, 0.8888888955116272)'>determination</span> <span style='background-color:rgba(255, 68, 68, 0.0)'>to</span> <span style='background-color:rgba(255, 68, 68, 0.5555555820465088)'>succeed</span> <span style='background-color:rgba(255, 68, 68, 0.0)'>is</span> <span style='background-color:rgba(255, 68, 68, 0.2222222238779068)'>strong</span> <span style='background-color:rgba(255, 68, 68, 0.0)'>enough</span><span style='background-color:rgba(255, 68, 68, 0.0)'>.</span><br><span style='background-color:rgba(255, 68, 68, 0.0)'>It</span> <span style='background-color:rgba(255, 68, 68, 0.2222222238779068)'>does</span><span style='background-color:rgba(255, 68, 68, 0.2222222238779068)'>n't</span> <span style='background-color:rgba(255, 68, 68, 0.0)'>matter</span> <span style='background-color:rgba(255, 68, 68, 0.0)'>how</span> <span style='background-color:rgba(255, 68, 68, 0.7777777910232544)'>great</span> <span style='background-color:rgba(255, 68, 68, 0.2222222238779068)'>your</span> <span style='background-color:rgba(255, 68, 68, 0.3333333432674408)'>shoes</span> <span style='background-color:rgba(255, 68, 68, 0.0)'>are</span> <span style='background-color:rgba(255, 68, 68, 0.0)'>if</span> <span style='background-color:rgba(255, 68, 68, 0.0)'>you</span> <span style='background-color:rgba(255, 68, 68, 0.3333333432674408)'>do</span><span style='background-color:rgba(255, 68, 68, 0.3333333432674408)'>n't</span> <span style='background-color:rgba(255, 68, 68, 0.8888888955116272)'>accomplish</span> <span style='background-color:rgba(255, 68, 68, 0.0)'>anything</span> <span style='background-color:rgba(255, 68, 68, 0.0)'>in</span> <span style='background-color:rgba(255, 68, 68, 0.0)'>them</span><span style='background-color:rgba(255, 68, 68, 0.0)'>.</span><br><span style='background-color:rgba(255, 68, 68, 0.4444444477558136)'>For</span> <span style='background-color:rgba(255, 68, 68, 0.8888888955116272)'>Mother</span><span style='background-color:rgba(255, 68, 68, 0.8888888955116272)'>'s</span> <span style='background-color:rgba(255, 68, 68, 0.6666666865348816)'>Day</span>"
      ],
      "text/plain": [
       "<IPython.core.display.HTML object>"
      ]
     },
     "metadata": {},
     "output_type": "display_data"
    }
   ],
   "source": [
    "es.visualization(words_test[:5], D_test[:5])"
   ]
  },
  {
   "cell_type": "code",
   "execution_count": null,
   "id": "b5ddecab-4863-44c0-934a-4b917ffd8538",
   "metadata": {},
   "outputs": [],
   "source": []
  }
 ],
 "metadata": {
  "kernelspec": {
   "display_name": "Python 3 (ipykernel)",
   "language": "python",
   "name": "python3"
  },
  "language_info": {
   "codemirror_mode": {
    "name": "ipython",
    "version": 3
   },
   "file_extension": ".py",
   "mimetype": "text/x-python",
   "name": "python",
   "nbconvert_exporter": "python",
   "pygments_lexer": "ipython3",
   "version": "3.10.12"
  }
 },
 "nbformat": 4,
 "nbformat_minor": 5
}
