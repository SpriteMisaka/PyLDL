{
 "cells": [
  {
   "cell_type": "markdown",
   "id": "ad3086af-f9cc-4da6-bd11-36722837ccb3",
   "metadata": {},
   "source": [
    "The code in `pyldl.applications.emphasis_selection` is basically an unofficial implementation of the paper \"Learning Emphasis Selection for Written Text in Visual Media from Crowd-Sourced Label Distributions\" (*ACL* 2019)."
   ]
  },
  {
   "cell_type": "code",
   "execution_count": 1,
   "id": "614b08c1-312e-4227-b014-9c831f99c664",
   "metadata": {},
   "outputs": [],
   "source": [
    "import pandas as pd"
   ]
  },
  {
   "cell_type": "code",
   "execution_count": 2,
   "id": "6db40940-cdb7-4bae-9dc7-cf8ba320e4d0",
   "metadata": {},
   "outputs": [],
   "source": [
    "from sklearn.model_selection import train_test_split\n",
    "import pyldl.applications.emphasis_selection as es"
   ]
  },
  {
   "cell_type": "code",
   "execution_count": 3,
   "id": "a672bc77-ff53-41b9-8a98-de82a2839e86",
   "metadata": {},
   "outputs": [],
   "source": [
    "from pyldl.metrics import euclidean\n",
    "from pyldl.utils import LDLEarlyStopping"
   ]
  },
  {
   "cell_type": "code",
   "execution_count": 4,
   "id": "3d417185-7ea0-43bc-9f04-909c8fbba391",
   "metadata": {},
   "outputs": [],
   "source": [
    "import keras"
   ]
  },
  {
   "cell_type": "code",
   "execution_count": 5,
   "id": "ef4fb3d1-98aa-4991-aed4-b37e0264c505",
   "metadata": {},
   "outputs": [],
   "source": [
    "words, freqs = es.load_semeval2020('./SemEval2020_Task10_Emphasis_Selection/')"
   ]
  },
  {
   "cell_type": "code",
   "execution_count": 6,
   "id": "3e582c3f-f405-4879-8cbc-04ca1eb21974",
   "metadata": {},
   "outputs": [
    {
     "data": {
      "text/html": [
       "<span style='background-color:rgba(255, 68, 68, 0.0)'>Save</span> <span style='background-color:rgba(255, 68, 68, 0.0)'>the</span> <span style='background-color:rgba(255, 68, 68, 0.0)'>Date</span><br><span style='background-color:rgba(255, 68, 68, 0.0)'>The</span> <span style='background-color:rgba(255, 68, 68, 0.0)'>habit</span> <span style='background-color:rgba(255, 68, 68, 0.0)'>of</span> <span style='background-color:rgba(255, 68, 68, 0.0)'>persistence</span> <span style='background-color:rgba(255, 68, 68, 0.0)'>is</span> <span style='background-color:rgba(255, 68, 68, 0.0)'>the</span> <span style='background-color:rgba(255, 68, 68, 0.0)'>habit</span> <span style='background-color:rgba(255, 68, 68, 0.0)'>of</span> <span style='background-color:rgba(255, 68, 68, 0.0)'>victory</span><span style='background-color:rgba(255, 68, 68, 0.0)'>.</span><br><span style='background-color:rgba(255, 68, 68, 0.0)'>What</span><span style='background-color:rgba(255, 68, 68, 0.0)'>'s</span> <span style='background-color:rgba(255, 68, 68, 0.0)'>dangerous</span> <span style='background-color:rgba(255, 68, 68, 0.0)'>is</span> <span style='background-color:rgba(255, 68, 68, 0.0)'>not</span> <span style='background-color:rgba(255, 68, 68, 0.0)'>to</span> <span style='background-color:rgba(255, 68, 68, 0.0)'>evolve</span><span style='background-color:rgba(255, 68, 68, 0.0)'>.</span><br><span style='background-color:rgba(255, 68, 68, 0.0)'>UN</span> <span style='background-color:rgba(255, 68, 68, 0.0)'>REAL</span><br><span style='background-color:rgba(255, 68, 68, 0.0)'>If</span> <span style='background-color:rgba(255, 68, 68, 0.0)'>you</span> <span style='background-color:rgba(255, 68, 68, 0.0)'>have</span> <span style='background-color:rgba(255, 68, 68, 0.0)'>the</span> <span style='background-color:rgba(255, 68, 68, 0.0)'>ability</span> <span style='background-color:rgba(255, 68, 68, 0.0)'>to</span> <span style='background-color:rgba(255, 68, 68, 0.0)'>love</span><span style='background-color:rgba(255, 68, 68, 0.0)'>,</span> <span style='background-color:rgba(255, 68, 68, 0.0)'>love</span> <span style='background-color:rgba(255, 68, 68, 0.0)'>yourself</span> <span style='background-color:rgba(255, 68, 68, 0.0)'>first</span><span style='background-color:rgba(255, 68, 68, 0.0)'>.</span>"
      ],
      "text/plain": [
       "<IPython.core.display.HTML object>"
      ]
     },
     "metadata": {},
     "output_type": "display_data"
    }
   ],
   "source": [
    "es.visualization(words[:5])"
   ]
  },
  {
   "cell_type": "code",
   "execution_count": 7,
   "id": "6a0d42f3-ee19-449c-877e-1ff52895f79c",
   "metadata": {},
   "outputs": [],
   "source": [
    "words_train, words_test, freqs_train, freqs_test = \\\n",
    "train_test_split(words, freqs, test_size=0.1, random_state=0)"
   ]
  },
  {
   "cell_type": "code",
   "execution_count": 8,
   "id": "d9ec4d74-06ab-462f-a3c9-b4db4b6ef0d3",
   "metadata": {},
   "outputs": [],
   "source": [
    "X_train, y_train, tokenizer, maxlen = es.preprocessing(words_train, freqs_train)"
   ]
  },
  {
   "cell_type": "code",
   "execution_count": 9,
   "id": "6bfc58f5-9c6b-4181-91a3-fabfae988e69",
   "metadata": {},
   "outputs": [],
   "source": [
    "embeddings_matrix = es.load_glove('./glove.6B/', tokenizer, embedding_dim=100)"
   ]
  },
  {
   "cell_type": "code",
   "execution_count": 10,
   "id": "2197e916-2d3d-410d-8cc5-b670410f15db",
   "metadata": {},
   "outputs": [],
   "source": [
    "model = es.DL_BiLSTM(tokenizer, embeddings_matrix)"
   ]
  },
  {
   "cell_type": "code",
   "execution_count": 11,
   "id": "cb2f3fd5-1c7e-4404-9eb1-fd56a514e7e9",
   "metadata": {},
   "outputs": [],
   "source": [
    "val = int(X_train.shape[0] * 0.9)"
   ]
  },
  {
   "cell_type": "code",
   "execution_count": 12,
   "id": "9b287696-7a62-400d-ae12-50310936f7e2",
   "metadata": {},
   "outputs": [
    {
     "name": "stdout",
     "output_type": "stream",
     "text": [
      "\u001b[1m 132/1000\u001b[0m \u001b[32m━━\u001b[0m\u001b[37m━━━━━━━━━━━━━━━━━━\u001b[0m \u001b[1m19s\u001b[0m 130ms/step - loss: 250.8580 - euclidean: 0.5938 \n",
      "Epoch 132: early stopping (best euclidean: 0.576362669467926).\n"
     ]
    }
   ],
   "source": [
    "model.fit(X_train[:val], y_train[:val], verbose=1, optimizer=keras.optimizers.Adam(1e-3),\n",
    "          X_val=X_train[val:], y_val=y_train[val:], callbacks=[LDLEarlyStopping(monitor='euclidean', patience=50)]);"
   ]
  },
  {
   "cell_type": "code",
   "execution_count": 13,
   "id": "ae06966d-c856-49d1-97ce-8424d73433c7",
   "metadata": {},
   "outputs": [],
   "source": [
    "X_test, y_test = es.preprocessing(words_test, freqs_test, tokenizer, maxlen)"
   ]
  },
  {
   "cell_type": "code",
   "execution_count": 14,
   "id": "519485b7-a581-47ab-b71c-5b2e5c684a24",
   "metadata": {},
   "outputs": [],
   "source": [
    "y_pred = model.predict(X_test)"
   ]
  },
  {
   "cell_type": "code",
   "execution_count": 15,
   "id": "e666a5a4-3720-447b-8038-8b6e8b349e47",
   "metadata": {},
   "outputs": [],
   "source": [
    "df = pd.DataFrame({'score': euclidean(y_test, y_pred, reduction=None),\n",
    "                   'group': y_test[:, :10].argmax(axis=1)})\n",
    "samples = df.groupby('group')['score'].idxmin().values"
   ]
  },
  {
   "cell_type": "code",
   "execution_count": 16,
   "id": "03dc25bd-698f-4fbb-ac93-4d41c0841f8e",
   "metadata": {},
   "outputs": [
    {
     "data": {
      "text/html": [
       "<span style='background-color:rgba(255, 68, 68, 0.6645748615264893)'>Women</span> <span style='background-color:rgba(255, 68, 68, 0.34409546852111816)'>in</span> <span style='background-color:rgba(255, 68, 68, 0.5928345918655396)'>Tech</span><br><span style='background-color:rgba(255, 68, 68, 0.6583365797996521)'>Happy</span> <span style='background-color:rgba(255, 68, 68, 0.7500929832458496)'>Halloween</span><span style='background-color:rgba(255, 68, 68, 0.3809092044830322)'>!</span><br><span style='background-color:rgba(255, 68, 68, 0.3181614279747009)'>Take</span> <span style='background-color:rgba(255, 68, 68, 0.3124745190143585)'>every</span> <span style='background-color:rgba(255, 68, 68, 0.6064617037773132)'>risk</span><br><span style='background-color:rgba(255, 68, 68, 0.4689681828022003)'>Help</span> <span style='background-color:rgba(255, 68, 68, 0.3147002160549164)'>your</span> <span style='background-color:rgba(255, 68, 68, 0.6308721303939819)'>children</span> <span style='background-color:rgba(255, 68, 68, 0.7252716422080994)'>blossom</span><br><span style='background-color:rgba(255, 68, 68, 0.33466607332229614)'>How</span> <span style='background-color:rgba(255, 68, 68, 0.46897444128990173)'>bad</span> <span style='background-color:rgba(255, 68, 68, 0.41219961643218994)'>do</span> <span style='background-color:rgba(255, 68, 68, 0.2734886705875397)'>you</span> <span style='background-color:rgba(255, 68, 68, 0.5293822288513184)'>want</span> <span style='background-color:rgba(255, 68, 68, 0.4466905891895294)'>it</span><span style='background-color:rgba(255, 68, 68, 0.28725743293762207)'>?</span><br><span style='background-color:rgba(255, 68, 68, 0.7004932165145874)'>Fortune</span> <span style='background-color:rgba(255, 68, 68, 0.3005945682525635)'>sides</span> <span style='background-color:rgba(255, 68, 68, 0.0)'>with</span> <span style='background-color:rgba(255, 68, 68, 0.0)'>him</span> <span style='background-color:rgba(255, 68, 68, 0.23535628616809845)'>who</span> <span style='background-color:rgba(255, 68, 68, 0.6602745056152344)'>dares</span><span style='background-color:rgba(255, 68, 68, 0.2622331380844116)'>.</span><br><span style='background-color:rgba(255, 68, 68, 0.506159245967865)'>Seek</span> <span style='background-color:rgba(255, 68, 68, 0.2734765112400055)'>not</span> <span style='background-color:rgba(255, 68, 68, 0.5676499605178833)'>greatness</span><span style='background-color:rgba(255, 68, 68, 0.0)'>,</span> <span style='background-color:rgba(255, 68, 68, 0.0)'>but</span> <span style='background-color:rgba(255, 68, 68, 0.5973754525184631)'>seek</span> <span style='background-color:rgba(255, 68, 68, 0.716633677482605)'>truth</span> <span style='background-color:rgba(255, 68, 68, 0.0)'>and</span> <span style='background-color:rgba(255, 68, 68, 0.0)'>you</span> <span style='background-color:rgba(255, 68, 68, 0.0)'>will</span> <span style='background-color:rgba(255, 68, 68, 0.33669793605804443)'>find</span> <span style='background-color:rgba(255, 68, 68, 0.28782132267951965)'>both</span><span style='background-color:rgba(255, 68, 68, 0.0)'>.</span><br><span style='background-color:rgba(255, 68, 68, 0.0)'>If</span> <span style='background-color:rgba(255, 68, 68, 0.0)'>you</span> <span style='background-color:rgba(255, 68, 68, 0.22349579632282257)'>get</span> <span style='background-color:rgba(255, 68, 68, 0.5176255106925964)'>tired</span><span style='background-color:rgba(255, 68, 68, 0.0)'>,</span> <span style='background-color:rgba(255, 68, 68, 0.5275853872299194)'>learn</span> <span style='background-color:rgba(255, 68, 68, 0.0)'>to</span> <span style='background-color:rgba(255, 68, 68, 0.4800455570220947)'>rest</span><span style='background-color:rgba(255, 68, 68, 0.0)'>,</span> <span style='background-color:rgba(255, 68, 68, 0.341035932302475)'>not</span> <span style='background-color:rgba(255, 68, 68, 0.30637621879577637)'>to</span> <span style='background-color:rgba(255, 68, 68, 0.7845600843429565)'>quit</span><span style='background-color:rgba(255, 68, 68, 0.27758798003196716)'>.</span><br><span style='background-color:rgba(255, 68, 68, 0.49347028136253357)'>Good</span> <span style='background-color:rgba(255, 68, 68, 0.5205535888671875)'>teachers</span> <span style='background-color:rgba(255, 68, 68, 0.2227802872657776)'>know</span> <span style='background-color:rgba(255, 68, 68, 0.0)'>how</span> <span style='background-color:rgba(255, 68, 68, 0.0)'>to</span> <span style='background-color:rgba(255, 68, 68, 0.4442722201347351)'>bring</span> <span style='background-color:rgba(255, 68, 68, 0.3715408146381378)'>out</span> <span style='background-color:rgba(255, 68, 68, 0.2662643492221832)'>the</span> <span style='background-color:rgba(255, 68, 68, 0.738660991191864)'>best</span> <span style='background-color:rgba(255, 68, 68, 0.3607177734375)'>in</span> <span style='background-color:rgba(255, 68, 68, 0.0)'>students</span><span style='background-color:rgba(255, 68, 68, 0.0)'>.</span><br><span style='background-color:rgba(255, 68, 68, 0.0)'>I</span> <span style='background-color:rgba(255, 68, 68, 0.0)'>will</span> <span style='background-color:rgba(255, 68, 68, 0.24922776222229004)'>go</span> <span style='background-color:rgba(255, 68, 68, 0.4336056411266327)'>anywhere</span> <span style='background-color:rgba(255, 68, 68, 0.0)'>as</span> <span style='background-color:rgba(255, 68, 68, 0.20045194029808044)'>long</span> <span style='background-color:rgba(255, 68, 68, 0.0)'>as</span> <span style='background-color:rgba(255, 68, 68, 0.0)'>it</span><span style='background-color:rgba(255, 68, 68, 0.3270833492279053)'>'s</span> <span style='background-color:rgba(255, 68, 68, 0.793524980545044)'>forward</span><span style='background-color:rgba(255, 68, 68, 0.28592827916145325)'>.</span>"
      ],
      "text/plain": [
       "<IPython.core.display.HTML object>"
      ]
     },
     "metadata": {},
     "output_type": "display_data"
    }
   ],
   "source": [
    "es.visualization([words_test[i] for i in samples], y_pred[samples])"
   ]
  },
  {
   "cell_type": "code",
   "execution_count": 17,
   "id": "4ab278bb-d166-408a-913a-d6a606e3bae9",
   "metadata": {},
   "outputs": [
    {
     "data": {
      "text/html": [
       "<span style='background-color:rgba(255, 68, 68, 0.6666666865348816)'>Women</span> <span style='background-color:rgba(255, 68, 68, 0.3333333432674408)'>in</span> <span style='background-color:rgba(255, 68, 68, 0.5555555820465088)'>Tech</span><br><span style='background-color:rgba(255, 68, 68, 0.6666666865348816)'>Happy</span> <span style='background-color:rgba(255, 68, 68, 0.8888888955116272)'>Halloween</span><span style='background-color:rgba(255, 68, 68, 0.5555555820465088)'>!</span><br><span style='background-color:rgba(255, 68, 68, 0.4444444477558136)'>Take</span> <span style='background-color:rgba(255, 68, 68, 0.4444444477558136)'>every</span> <span style='background-color:rgba(255, 68, 68, 0.7777777910232544)'>risk</span><br><span style='background-color:rgba(255, 68, 68, 0.3333333432674408)'>Help</span> <span style='background-color:rgba(255, 68, 68, 0.3333333432674408)'>your</span> <span style='background-color:rgba(255, 68, 68, 0.5555555820465088)'>children</span> <span style='background-color:rgba(255, 68, 68, 0.6666666865348816)'>blossom</span><br><span style='background-color:rgba(255, 68, 68, 0.2222222238779068)'>How</span> <span style='background-color:rgba(255, 68, 68, 0.5555555820465088)'>bad</span> <span style='background-color:rgba(255, 68, 68, 0.0)'>do</span> <span style='background-color:rgba(255, 68, 68, 0.2222222238779068)'>you</span> <span style='background-color:rgba(255, 68, 68, 0.6666666865348816)'>want</span> <span style='background-color:rgba(255, 68, 68, 0.4444444477558136)'>it</span><span style='background-color:rgba(255, 68, 68, 0.2222222238779068)'>?</span><br><span style='background-color:rgba(255, 68, 68, 0.6666666865348816)'>Fortune</span> <span style='background-color:rgba(255, 68, 68, 0.4444444477558136)'>sides</span> <span style='background-color:rgba(255, 68, 68, 0.0)'>with</span> <span style='background-color:rgba(255, 68, 68, 0.2222222238779068)'>him</span> <span style='background-color:rgba(255, 68, 68, 0.2222222238779068)'>who</span> <span style='background-color:rgba(255, 68, 68, 0.7777777910232544)'>dares</span><span style='background-color:rgba(255, 68, 68, 0.3333333432674408)'>.</span><br><span style='background-color:rgba(255, 68, 68, 0.3333333432674408)'>Seek</span> <span style='background-color:rgba(255, 68, 68, 0.4444444477558136)'>not</span> <span style='background-color:rgba(255, 68, 68, 0.5555555820465088)'>greatness</span><span style='background-color:rgba(255, 68, 68, 0.0)'>,</span> <span style='background-color:rgba(255, 68, 68, 0.0)'>but</span> <span style='background-color:rgba(255, 68, 68, 0.4444444477558136)'>seek</span> <span style='background-color:rgba(255, 68, 68, 0.7777777910232544)'>truth</span> <span style='background-color:rgba(255, 68, 68, 0.0)'>and</span> <span style='background-color:rgba(255, 68, 68, 0.0)'>you</span> <span style='background-color:rgba(255, 68, 68, 0.0)'>will</span> <span style='background-color:rgba(255, 68, 68, 0.4444444477558136)'>find</span> <span style='background-color:rgba(255, 68, 68, 0.3333333432674408)'>both</span><span style='background-color:rgba(255, 68, 68, 0.0)'>.</span><br><span style='background-color:rgba(255, 68, 68, 0.0)'>If</span> <span style='background-color:rgba(255, 68, 68, 0.0)'>you</span> <span style='background-color:rgba(255, 68, 68, 0.0)'>get</span> <span style='background-color:rgba(255, 68, 68, 0.4444444477558136)'>tired</span><span style='background-color:rgba(255, 68, 68, 0.0)'>,</span> <span style='background-color:rgba(255, 68, 68, 0.4444444477558136)'>learn</span> <span style='background-color:rgba(255, 68, 68, 0.2222222238779068)'>to</span> <span style='background-color:rgba(255, 68, 68, 0.6666666865348816)'>rest</span><span style='background-color:rgba(255, 68, 68, 0.0)'>,</span> <span style='background-color:rgba(255, 68, 68, 0.3333333432674408)'>not</span> <span style='background-color:rgba(255, 68, 68, 0.3333333432674408)'>to</span> <span style='background-color:rgba(255, 68, 68, 0.6666666865348816)'>quit</span><span style='background-color:rgba(255, 68, 68, 0.4444444477558136)'>.</span><br><span style='background-color:rgba(255, 68, 68, 0.7777777910232544)'>Good</span> <span style='background-color:rgba(255, 68, 68, 0.6666666865348816)'>teachers</span> <span style='background-color:rgba(255, 68, 68, 0.2222222238779068)'>know</span> <span style='background-color:rgba(255, 68, 68, 0.2222222238779068)'>how</span> <span style='background-color:rgba(255, 68, 68, 0.2222222238779068)'>to</span> <span style='background-color:rgba(255, 68, 68, 0.4444444477558136)'>bring</span> <span style='background-color:rgba(255, 68, 68, 0.4444444477558136)'>out</span> <span style='background-color:rgba(255, 68, 68, 0.3333333432674408)'>the</span> <span style='background-color:rgba(255, 68, 68, 0.8888888955116272)'>best</span> <span style='background-color:rgba(255, 68, 68, 0.4444444477558136)'>in</span> <span style='background-color:rgba(255, 68, 68, 0.4444444477558136)'>students</span><span style='background-color:rgba(255, 68, 68, 0.2222222238779068)'>.</span><br><span style='background-color:rgba(255, 68, 68, 0.0)'>I</span> <span style='background-color:rgba(255, 68, 68, 0.0)'>will</span> <span style='background-color:rgba(255, 68, 68, 0.2222222238779068)'>go</span> <span style='background-color:rgba(255, 68, 68, 0.4444444477558136)'>anywhere</span> <span style='background-color:rgba(255, 68, 68, 0.0)'>as</span> <span style='background-color:rgba(255, 68, 68, 0.3333333432674408)'>long</span> <span style='background-color:rgba(255, 68, 68, 0.2222222238779068)'>as</span> <span style='background-color:rgba(255, 68, 68, 0.0)'>it</span><span style='background-color:rgba(255, 68, 68, 0.0)'>'s</span> <span style='background-color:rgba(255, 68, 68, 0.6666666865348816)'>forward</span><span style='background-color:rgba(255, 68, 68, 0.0)'>.</span>"
      ],
      "text/plain": [
       "<IPython.core.display.HTML object>"
      ]
     },
     "metadata": {},
     "output_type": "display_data"
    }
   ],
   "source": [
    "es.visualization([words_test[i] for i in samples], y_test[samples])"
   ]
  },
  {
   "cell_type": "code",
   "execution_count": null,
   "id": "b5ddecab-4863-44c0-934a-4b917ffd8538",
   "metadata": {},
   "outputs": [],
   "source": []
  }
 ],
 "metadata": {
  "kernelspec": {
   "display_name": "Python 3 (ipykernel)",
   "language": "python",
   "name": "python3"
  },
  "language_info": {
   "codemirror_mode": {
    "name": "ipython",
    "version": 3
   },
   "file_extension": ".py",
   "mimetype": "text/x-python",
   "name": "python",
   "nbconvert_exporter": "python",
   "pygments_lexer": "ipython3",
   "version": "3.10.12"
  }
 },
 "nbformat": 4,
 "nbformat_minor": 5
}
