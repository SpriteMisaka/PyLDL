{
 "cells": [
  {
   "cell_type": "markdown",
   "id": "ad3086af-f9cc-4da6-bd11-36722837ccb3",
   "metadata": {},
   "source": [
    "The code in `pyldl.applications.emphasis_selection` is basically an unofficial implementation of the paper \"Learning Emphasis Selection for Written Text in Visual Media from Crowd-Sourced Label Distributions\" (*ACL* 2019)."
   ]
  },
  {
   "cell_type": "code",
   "execution_count": 1,
   "id": "6db40940-cdb7-4bae-9dc7-cf8ba320e4d0",
   "metadata": {},
   "outputs": [],
   "source": [
    "from sklearn.model_selection import train_test_split\n",
    "import pyldl.applications.emphasis_selection as es"
   ]
  },
  {
   "cell_type": "code",
   "execution_count": 2,
   "id": "a672bc77-ff53-41b9-8a98-de82a2839e86",
   "metadata": {},
   "outputs": [],
   "source": [
    "from pyldl.utils import LDLEarlyStopping"
   ]
  },
  {
   "cell_type": "code",
   "execution_count": 3,
   "id": "3d417185-7ea0-43bc-9f04-909c8fbba391",
   "metadata": {},
   "outputs": [],
   "source": [
    "import keras"
   ]
  },
  {
   "cell_type": "code",
   "execution_count": 4,
   "id": "ef4fb3d1-98aa-4991-aed4-b37e0264c505",
   "metadata": {},
   "outputs": [],
   "source": [
    "words, freqs = es.load_semeval2020('./SemEval2020_Task10_Emphasis_Selection/')"
   ]
  },
  {
   "cell_type": "code",
   "execution_count": 5,
   "id": "3e582c3f-f405-4879-8cbc-04ca1eb21974",
   "metadata": {},
   "outputs": [
    {
     "data": {
      "text/html": [
       "<span style='background-color:rgba(255, 68, 68, 0.0)'>Save</span> <span style='background-color:rgba(255, 68, 68, 0.0)'>the</span> <span style='background-color:rgba(255, 68, 68, 0.0)'>Date</span><br><span style='background-color:rgba(255, 68, 68, 0.0)'>The</span> <span style='background-color:rgba(255, 68, 68, 0.0)'>habit</span> <span style='background-color:rgba(255, 68, 68, 0.0)'>of</span> <span style='background-color:rgba(255, 68, 68, 0.0)'>persistence</span> <span style='background-color:rgba(255, 68, 68, 0.0)'>is</span> <span style='background-color:rgba(255, 68, 68, 0.0)'>the</span> <span style='background-color:rgba(255, 68, 68, 0.0)'>habit</span> <span style='background-color:rgba(255, 68, 68, 0.0)'>of</span> <span style='background-color:rgba(255, 68, 68, 0.0)'>victory</span><span style='background-color:rgba(255, 68, 68, 0.0)'>.</span><br><span style='background-color:rgba(255, 68, 68, 0.0)'>What</span><span style='background-color:rgba(255, 68, 68, 0.0)'>'s</span> <span style='background-color:rgba(255, 68, 68, 0.0)'>dangerous</span> <span style='background-color:rgba(255, 68, 68, 0.0)'>is</span> <span style='background-color:rgba(255, 68, 68, 0.0)'>not</span> <span style='background-color:rgba(255, 68, 68, 0.0)'>to</span> <span style='background-color:rgba(255, 68, 68, 0.0)'>evolve</span><span style='background-color:rgba(255, 68, 68, 0.0)'>.</span><br><span style='background-color:rgba(255, 68, 68, 0.0)'>UN</span> <span style='background-color:rgba(255, 68, 68, 0.0)'>REAL</span><br><span style='background-color:rgba(255, 68, 68, 0.0)'>If</span> <span style='background-color:rgba(255, 68, 68, 0.0)'>you</span> <span style='background-color:rgba(255, 68, 68, 0.0)'>have</span> <span style='background-color:rgba(255, 68, 68, 0.0)'>the</span> <span style='background-color:rgba(255, 68, 68, 0.0)'>ability</span> <span style='background-color:rgba(255, 68, 68, 0.0)'>to</span> <span style='background-color:rgba(255, 68, 68, 0.0)'>love</span><span style='background-color:rgba(255, 68, 68, 0.0)'>,</span> <span style='background-color:rgba(255, 68, 68, 0.0)'>love</span> <span style='background-color:rgba(255, 68, 68, 0.0)'>yourself</span> <span style='background-color:rgba(255, 68, 68, 0.0)'>first</span><span style='background-color:rgba(255, 68, 68, 0.0)'>.</span>"
      ],
      "text/plain": [
       "<IPython.core.display.HTML object>"
      ]
     },
     "metadata": {},
     "output_type": "display_data"
    }
   ],
   "source": [
    "es.visualization(words[:5])"
   ]
  },
  {
   "cell_type": "code",
   "execution_count": 6,
   "id": "6a0d42f3-ee19-449c-877e-1ff52895f79c",
   "metadata": {},
   "outputs": [],
   "source": [
    "words_train, words_test, freqs_train, freqs_test = \\\n",
    "train_test_split(words, freqs, test_size=0.1, random_state=0)"
   ]
  },
  {
   "cell_type": "code",
   "execution_count": 7,
   "id": "d9ec4d74-06ab-462f-a3c9-b4db4b6ef0d3",
   "metadata": {},
   "outputs": [],
   "source": [
    "X_train, y_train, tokenizer, maxlen = es.preprocessing(words_train, freqs_train)"
   ]
  },
  {
   "cell_type": "code",
   "execution_count": 8,
   "id": "6bfc58f5-9c6b-4181-91a3-fabfae988e69",
   "metadata": {},
   "outputs": [],
   "source": [
    "embeddings_matrix = es.load_glove('./glove.6B/', tokenizer, embedding_dim=100)"
   ]
  },
  {
   "cell_type": "code",
   "execution_count": 9,
   "id": "2197e916-2d3d-410d-8cc5-b670410f15db",
   "metadata": {},
   "outputs": [],
   "source": [
    "model = es.DL_BiLSTM(tokenizer, embeddings_matrix)"
   ]
  },
  {
   "cell_type": "code",
   "execution_count": 10,
   "id": "cb2f3fd5-1c7e-4404-9eb1-fd56a514e7e9",
   "metadata": {},
   "outputs": [],
   "source": [
    "val = int(X_train.shape[0] * 0.9)"
   ]
  },
  {
   "cell_type": "code",
   "execution_count": 11,
   "id": "9b287696-7a62-400d-ae12-50310936f7e2",
   "metadata": {},
   "outputs": [
    {
     "name": "stderr",
     "output_type": "stream",
     "text": [
      "WARNING: All log messages before absl::InitializeLog() is called are written to STDERR\n",
      "I0000 00:00:1717575503.082867  245797 device_compiler.h:186] Compiled cluster using XLA!  This line is logged at most once for the lifetime of the process.\n"
     ]
    },
    {
     "name": "stdout",
     "output_type": "stream",
     "text": [
      " 213/1000 [=====>........................] - 19s 74ms/step - loss: 344.5778\n",
      "Epoch 213: early stopping (best loss: 343.5492248535156).\n"
     ]
    },
    {
     "data": {
      "text/plain": [
       "<pyldl.applications.emphasis_selection.DL_BiLSTM at 0x7f6a9e552c20>"
      ]
     },
     "execution_count": 11,
     "metadata": {},
     "output_type": "execute_result"
    }
   ],
   "source": [
    "model.fit(X_train[:val], y_train[:val], verbose=1, optimizer=keras.optimizers.Adam(5e-4),\n",
    "          X_val=X_train[val:], y_val=y_train[val:], callbacks=[LDLEarlyStopping(monitor='loss')])"
   ]
  },
  {
   "cell_type": "code",
   "execution_count": 12,
   "id": "ae06966d-c856-49d1-97ce-8424d73433c7",
   "metadata": {},
   "outputs": [],
   "source": [
    "X_test, y_test = es.preprocessing(words_test, freqs_test, tokenizer, maxlen)"
   ]
  },
  {
   "cell_type": "code",
   "execution_count": 13,
   "id": "519485b7-a581-47ab-b71c-5b2e5c684a24",
   "metadata": {},
   "outputs": [],
   "source": [
    "y_pred = model.predict(X_test)"
   ]
  },
  {
   "cell_type": "code",
   "execution_count": 14,
   "id": "03dc25bd-698f-4fbb-ac93-4d41c0841f8e",
   "metadata": {},
   "outputs": [
    {
     "data": {
      "text/html": [
       "<span style='background-color:rgba(255, 68, 68, 0.5777552723884583)'>Organic</span> <span style='background-color:rgba(255, 68, 68, 0.21268586814403534)'>Symmetry</span><br><span style='background-color:rgba(255, 68, 68, 0.49666091799736023)'>Begin</span> <span style='background-color:rgba(255, 68, 68, 0.2802422046661377)'>now</span> <span style='background-color:rgba(255, 68, 68, 0.0)'>to</span> <span style='background-color:rgba(255, 68, 68, 0.0)'>be</span> <span style='background-color:rgba(255, 68, 68, 0.0)'>what</span> <span style='background-color:rgba(255, 68, 68, 0.0)'>you</span> <span style='background-color:rgba(255, 68, 68, 0.0)'>will</span> <span style='background-color:rgba(255, 68, 68, 0.3613479733467102)'>be</span> <span style='background-color:rgba(255, 68, 68, 0.6246641278266907)'>hereafter</span><span style='background-color:rgba(255, 68, 68, 0.20483891665935516)'>.</span><br><span style='background-color:rgba(255, 68, 68, 0.5284855961799622)'>Failure</span> <span style='background-color:rgba(255, 68, 68, 0.0)'>will</span> <span style='background-color:rgba(255, 68, 68, 0.35146477818489075)'>never</span> <span style='background-color:rgba(255, 68, 68, 0.0)'>overtake</span> <span style='background-color:rgba(255, 68, 68, 0.0)'>me</span> <span style='background-color:rgba(255, 68, 68, 0.0)'>if</span> <span style='background-color:rgba(255, 68, 68, 0.7095122933387756)'>my</span> <span style='background-color:rgba(255, 68, 68, 0.0)'>determination</span> <span style='background-color:rgba(255, 68, 68, 0.5193350315093994)'>to</span> <span style='background-color:rgba(255, 68, 68, 0.0)'>succeed</span> <span style='background-color:rgba(255, 68, 68, 0.7325662970542908)'>is</span> <span style='background-color:rgba(255, 68, 68, 0.6256409287452698)'>strong</span> <span style='background-color:rgba(255, 68, 68, 0.2081301510334015)'>enough</span><span style='background-color:rgba(255, 68, 68, 0.0)'>.</span><br><span style='background-color:rgba(255, 68, 68, 0.0)'>It</span> <span style='background-color:rgba(255, 68, 68, 0.0)'>does</span><span style='background-color:rgba(255, 68, 68, 0.0)'>n't</span> <span style='background-color:rgba(255, 68, 68, 0.0)'>matter</span> <span style='background-color:rgba(255, 68, 68, 0.0)'>how</span> <span style='background-color:rgba(255, 68, 68, 0.49341583251953125)'>great</span> <span style='background-color:rgba(255, 68, 68, 0.22813859581947327)'>your</span> <span style='background-color:rgba(255, 68, 68, 0.48268577456474304)'>shoes</span> <span style='background-color:rgba(255, 68, 68, 0.0)'>are</span> <span style='background-color:rgba(255, 68, 68, 0.0)'>if</span> <span style='background-color:rgba(255, 68, 68, 0.0)'>you</span> <span style='background-color:rgba(255, 68, 68, 0.24684089422225952)'>do</span><span style='background-color:rgba(255, 68, 68, 0.2692224383354187)'>n't</span> <span style='background-color:rgba(255, 68, 68, 0.5174145102500916)'>accomplish</span> <span style='background-color:rgba(255, 68, 68, 0.36693868041038513)'>anything</span> <span style='background-color:rgba(255, 68, 68, 0.0)'>in</span> <span style='background-color:rgba(255, 68, 68, 0.0)'>them</span><span style='background-color:rgba(255, 68, 68, 0.0)'>.</span><br><span style='background-color:rgba(255, 68, 68, 0.2769247591495514)'>For</span> <span style='background-color:rgba(255, 68, 68, 0.6114184856414795)'>Mother</span><span style='background-color:rgba(255, 68, 68, 0.46776461601257324)'>'s</span> <span style='background-color:rgba(255, 68, 68, 0.5723920464515686)'>Day</span>"
      ],
      "text/plain": [
       "<IPython.core.display.HTML object>"
      ]
     },
     "metadata": {},
     "output_type": "display_data"
    }
   ],
   "source": [
    "es.visualization(words_test[:5], y_pred[:5])"
   ]
  },
  {
   "cell_type": "code",
   "execution_count": 15,
   "id": "4ab278bb-d166-408a-913a-d6a606e3bae9",
   "metadata": {},
   "outputs": [
    {
     "data": {
      "text/html": [
       "<span style='background-color:rgba(255, 68, 68, 0.8888888955116272)'>Organic</span> <span style='background-color:rgba(255, 68, 68, 0.5555555820465088)'>Symmetry</span><br><span style='background-color:rgba(255, 68, 68, 0.3333333432674408)'>Begin</span> <span style='background-color:rgba(255, 68, 68, 0.7777777910232544)'>now</span> <span style='background-color:rgba(255, 68, 68, 0.0)'>to</span> <span style='background-color:rgba(255, 68, 68, 0.0)'>be</span> <span style='background-color:rgba(255, 68, 68, 0.0)'>what</span> <span style='background-color:rgba(255, 68, 68, 0.0)'>you</span> <span style='background-color:rgba(255, 68, 68, 0.2222222238779068)'>will</span> <span style='background-color:rgba(255, 68, 68, 0.2222222238779068)'>be</span> <span style='background-color:rgba(255, 68, 68, 0.4444444477558136)'>hereafter</span><span style='background-color:rgba(255, 68, 68, 0.2222222238779068)'>.</span><br><span style='background-color:rgba(255, 68, 68, 0.6666666865348816)'>Failure</span> <span style='background-color:rgba(255, 68, 68, 0.0)'>will</span> <span style='background-color:rgba(255, 68, 68, 0.2222222238779068)'>never</span> <span style='background-color:rgba(255, 68, 68, 0.2222222238779068)'>overtake</span> <span style='background-color:rgba(255, 68, 68, 0.0)'>me</span> <span style='background-color:rgba(255, 68, 68, 0.0)'>if</span> <span style='background-color:rgba(255, 68, 68, 0.0)'>my</span> <span style='background-color:rgba(255, 68, 68, 0.8888888955116272)'>determination</span> <span style='background-color:rgba(255, 68, 68, 0.0)'>to</span> <span style='background-color:rgba(255, 68, 68, 0.5555555820465088)'>succeed</span> <span style='background-color:rgba(255, 68, 68, 0.0)'>is</span> <span style='background-color:rgba(255, 68, 68, 0.2222222238779068)'>strong</span> <span style='background-color:rgba(255, 68, 68, 0.0)'>enough</span><span style='background-color:rgba(255, 68, 68, 0.0)'>.</span><br><span style='background-color:rgba(255, 68, 68, 0.0)'>It</span> <span style='background-color:rgba(255, 68, 68, 0.2222222238779068)'>does</span><span style='background-color:rgba(255, 68, 68, 0.2222222238779068)'>n't</span> <span style='background-color:rgba(255, 68, 68, 0.0)'>matter</span> <span style='background-color:rgba(255, 68, 68, 0.0)'>how</span> <span style='background-color:rgba(255, 68, 68, 0.7777777910232544)'>great</span> <span style='background-color:rgba(255, 68, 68, 0.2222222238779068)'>your</span> <span style='background-color:rgba(255, 68, 68, 0.3333333432674408)'>shoes</span> <span style='background-color:rgba(255, 68, 68, 0.0)'>are</span> <span style='background-color:rgba(255, 68, 68, 0.0)'>if</span> <span style='background-color:rgba(255, 68, 68, 0.0)'>you</span> <span style='background-color:rgba(255, 68, 68, 0.3333333432674408)'>do</span><span style='background-color:rgba(255, 68, 68, 0.3333333432674408)'>n't</span> <span style='background-color:rgba(255, 68, 68, 0.8888888955116272)'>accomplish</span> <span style='background-color:rgba(255, 68, 68, 0.0)'>anything</span> <span style='background-color:rgba(255, 68, 68, 0.0)'>in</span> <span style='background-color:rgba(255, 68, 68, 0.0)'>them</span><span style='background-color:rgba(255, 68, 68, 0.0)'>.</span><br><span style='background-color:rgba(255, 68, 68, 0.4444444477558136)'>For</span> <span style='background-color:rgba(255, 68, 68, 0.8888888955116272)'>Mother</span><span style='background-color:rgba(255, 68, 68, 0.8888888955116272)'>'s</span> <span style='background-color:rgba(255, 68, 68, 0.6666666865348816)'>Day</span>"
      ],
      "text/plain": [
       "<IPython.core.display.HTML object>"
      ]
     },
     "metadata": {},
     "output_type": "display_data"
    }
   ],
   "source": [
    "es.visualization(words_test[:5], y_test[:5])"
   ]
  },
  {
   "cell_type": "code",
   "execution_count": null,
   "id": "d30b8da8-a7d2-42db-b2ef-f03d042eb2b4",
   "metadata": {},
   "outputs": [],
   "source": []
  }
 ],
 "metadata": {
  "kernelspec": {
   "display_name": "Python 3 (ipykernel)",
   "language": "python",
   "name": "python3"
  },
  "language_info": {
   "codemirror_mode": {
    "name": "ipython",
    "version": 3
   },
   "file_extension": ".py",
   "mimetype": "text/x-python",
   "name": "python",
   "nbconvert_exporter": "python",
   "pygments_lexer": "ipython3",
   "version": "3.9.17"
  }
 },
 "nbformat": 4,
 "nbformat_minor": 5
}
