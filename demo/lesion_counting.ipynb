{
 "cells": [
  {
   "cell_type": "markdown",
   "id": "b4a60635-bfc3-4625-b4c6-1c08f0f01141",
   "metadata": {},
   "source": [
    "The code in `pyldl.applications.lesion_counting` is basically an unofficial implementation of the paper \"Joint Acne Image Grading and Counting via Label Distribution Learning\" (*ICCV* 2019)."
   ]
  },
  {
   "cell_type": "code",
   "execution_count": 1,
   "id": "4a10d46e-38ef-44da-9a7c-b8b13d24a78e",
   "metadata": {},
   "outputs": [],
   "source": [
    "import pyldl.applications.lesion_counting as lc\n",
    "from pyldl.utils import LDLEarlyStopping"
   ]
  },
  {
   "cell_type": "code",
   "execution_count": 2,
   "id": "6f6910d6-1d64-4345-994f-5e7ac139c207",
   "metadata": {},
   "outputs": [],
   "source": [
    "from sklearn.model_selection import train_test_split\n",
    "from keras.optimizers import SGD"
   ]
  },
  {
   "cell_type": "code",
   "execution_count": 3,
   "id": "439619de",
   "metadata": {},
   "outputs": [],
   "source": [
    "X, grades, counts = lc.load_acne04('./ACNE04')"
   ]
  },
  {
   "cell_type": "code",
   "execution_count": 4,
   "id": "48457b6b-ccb0-4749-ae19-fc74363f42b1",
   "metadata": {},
   "outputs": [],
   "source": [
    "n_grades = int(max(grades) + 1)\n",
    "n_counts = int(max(counts))"
   ]
  },
  {
   "cell_type": "code",
   "execution_count": 5,
   "id": "30254901",
   "metadata": {},
   "outputs": [],
   "source": [
    "D = lc.preprocessing(counts, sigma=3., n_counts=n_counts)"
   ]
  },
  {
   "cell_type": "code",
   "execution_count": 6,
   "id": "222d9e9b-cd75-42b4-b471-ffd998993c9f",
   "metadata": {},
   "outputs": [],
   "source": [
    "X_train, X_val, D_train, D_val = train_test_split(X, D, test_size=.1, random_state=0)"
   ]
  },
  {
   "cell_type": "code",
   "execution_count": 7,
   "id": "1c521daa",
   "metadata": {},
   "outputs": [],
   "source": [
    "model = lc.LDL_ACNE(n_grades, n_counts)"
   ]
  },
  {
   "cell_type": "code",
   "execution_count": 8,
   "id": "c7d64410",
   "metadata": {},
   "outputs": [
    {
     "name": "stdout",
     "output_type": "stream",
     "text": [
      "\u001b[1m1000/1000\u001b[0m \u001b[32m━━━━━━━━━━━━━━━━━━━━\u001b[0m\u001b[37m\u001b[0m \u001b[1m4059s\u001b[0m 4s/step - loss: 7.3778 - mean_absolute_error: 4.9891\n"
     ]
    }
   ],
   "source": [
    "model.fit(X_train, D_train, verbose=1, batch_size=32, X_val=X_val, D_val=D_val, optimizer=SGD(1e-5),\n",
    "          callbacks=[LDLEarlyStopping(monitor='mean_absolute_error', patience=None)]);"
   ]
  },
  {
   "cell_type": "code",
   "execution_count": 9,
   "id": "f2df2547-f330-4e10-bfa3-798940132343",
   "metadata": {},
   "outputs": [],
   "source": [
    "X_test, grades_test, counts_test = lc.load_acne04('./ACNE04', mode='test')"
   ]
  },
  {
   "cell_type": "code",
   "execution_count": 10,
   "id": "69a59547-9686-4bdc-a0e1-ac080738fe44",
   "metadata": {},
   "outputs": [
    {
     "name": "stdout",
     "output_type": "stream",
     "text": [
      "precision: 0.7403\n",
      "specificity: 0.8956\n",
      "sensitivity: 0.6979\n",
      "youden_index: 0.5935\n",
      "accuracy: 0.7363\n"
     ]
    }
   ],
   "source": [
    "scores = model.score(X_test, grades_test,\n",
    "                     mode='grading', batch_size=32, return_dict=True)\n",
    "for (k, v) in scores.items():\n",
    "    print(f\"{k}: {v:.4f}\")"
   ]
  },
  {
   "cell_type": "code",
   "execution_count": 11,
   "id": "7f513b51-3716-492a-b71b-4662ca31e4e1",
   "metadata": {},
   "outputs": [],
   "source": [
    "import numpy as np"
   ]
  },
  {
   "cell_type": "code",
   "execution_count": 12,
   "id": "cc336dd8-16ed-43a6-95d9-73025b4433ba",
   "metadata": {},
   "outputs": [
    {
     "name": "stdout",
     "output_type": "stream",
     "text": [
      "mean_absolute_error: 4.5171\n",
      "(root) mean_squared_error: 7.0148\n"
     ]
    }
   ],
   "source": [
    "scores = model.score(X_test, counts_test,\n",
    "                     mode='counting', batch_size=32, return_dict=True)\n",
    "s = list(scores.items())\n",
    "print(f\"{s[0][0]}: {s[0][1]:.4f}\")\n",
    "print(f\"(root) {s[1][0]}: {np.sqrt(s[1][1]):.4f}\")"
   ]
  },
  {
   "cell_type": "code",
   "execution_count": null,
   "id": "0842dc1a-58c9-4f24-8d17-80a5d7ec81b1",
   "metadata": {},
   "outputs": [],
   "source": []
  }
 ],
 "metadata": {
  "kernelspec": {
   "display_name": "Python 3 (ipykernel)",
   "language": "python",
   "name": "python3"
  },
  "language_info": {
   "codemirror_mode": {
    "name": "ipython",
    "version": 3
   },
   "file_extension": ".py",
   "mimetype": "text/x-python",
   "name": "python",
   "nbconvert_exporter": "python",
   "pygments_lexer": "ipython3",
   "version": "3.10.12"
  }
 },
 "nbformat": 4,
 "nbformat_minor": 5
}
