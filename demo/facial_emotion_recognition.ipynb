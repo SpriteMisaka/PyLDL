{
 "cells": [
  {
   "cell_type": "code",
   "execution_count": 1,
   "id": "987a1137",
   "metadata": {},
   "outputs": [],
   "source": [
    "from pyldl.algorithms import LDL_LRR\n",
    "from pyldl.utils import LDLEarlyStopping\n",
    "from pyldl.algorithms.base import BaseGD, BaseDeepLDL"
   ]
  },
  {
   "cell_type": "code",
   "execution_count": 2,
   "id": "7929eb53-da52-418b-80a5-06ffcf77278f",
   "metadata": {},
   "outputs": [],
   "source": [
    "import pyldl.applications.facial_emotion_recognition as fer"
   ]
  },
  {
   "cell_type": "code",
   "execution_count": 3,
   "id": "294d7dce-be3e-477d-8552-3cff1a21c959",
   "metadata": {},
   "outputs": [],
   "source": [
    "from sklearn.model_selection import train_test_split"
   ]
  },
  {
   "cell_type": "code",
   "execution_count": 4,
   "id": "387c938c-e174-44c0-9ad2-9d8a57d2f056",
   "metadata": {},
   "outputs": [],
   "source": [
    "import keras\n",
    "import tensorflow as tf\n",
    "import numpy as np\n",
    "from keras.optimizers import SGD"
   ]
  },
  {
   "cell_type": "code",
   "execution_count": 5,
   "id": "ee10599a",
   "metadata": {},
   "outputs": [],
   "source": [
    "X, D = fer.load_jaffe('./jaffe/')"
   ]
  },
  {
   "cell_type": "code",
   "execution_count": 6,
   "id": "2838344f",
   "metadata": {},
   "outputs": [],
   "source": [
    "temp, test = train_test_split(np.arange(X.shape[0]), test_size=0.1, random_state=0)\n",
    "X_train, X_val, D_train, D_val = train_test_split(X[temp], D[temp], test_size=0.1, random_state=0)"
   ]
  },
  {
   "cell_type": "code",
   "execution_count": 7,
   "id": "77640d61",
   "metadata": {},
   "outputs": [],
   "source": [
    "class LRR(BaseGD, BaseDeepLDL):\n",
    "    def __init__(self, alpha=1e-2, **kwargs):\n",
    "        super().__init__(**kwargs)\n",
    "        self._alpha = alpha\n",
    "    \n",
    "    @staticmethod\n",
    "    def loss_function(D, D_pred):\n",
    "        return tf.math.reduce_mean(keras.losses.kl_divergence(D, D_pred))\n",
    "\n",
    "    def _loss(self, X, D, start, end):\n",
    "        D_pred = self._call(X)\n",
    "        kld = self.loss_function(D, D_pred)\n",
    "        rnk = LDL_LRR.ranking_loss(D_pred, self._P[start:end], self._W[start:end]) / (2 * X.shape[0])\n",
    "        return kld + self._alpha * rnk\n",
    "\n",
    "    def _before_train(self):\n",
    "        self._P, self._W = LDL_LRR.preprocessing(self._D)"
   ]
  },
  {
   "cell_type": "code",
   "execution_count": 8,
   "id": "9d06326f-2bb1-43b8-b6bb-3715bb55feef",
   "metadata": {},
   "outputs": [],
   "source": [
    "lrr = LRR()"
   ]
  },
  {
   "cell_type": "code",
   "execution_count": 9,
   "id": "5139f748",
   "metadata": {},
   "outputs": [],
   "source": [
    "inputs = keras.Input(shape=X.shape[1:])\n",
    "encodes = keras.applications.ResNet50(include_top=False, weights='imagenet')(inputs)\n",
    "pooling = keras.layers.GlobalAveragePooling2D()(encodes)\n",
    "outputs = keras.layers.Dense(D.shape[1], activation='softmax')(pooling)"
   ]
  },
  {
   "cell_type": "code",
   "execution_count": 10,
   "id": "369d9afe-7067-4aca-8067-fc42d011e494",
   "metadata": {},
   "outputs": [],
   "source": [
    "model = keras.Model(inputs=inputs, outputs=outputs)"
   ]
  },
  {
   "cell_type": "code",
   "execution_count": 11,
   "id": "808aff94-5e38-400f-8a4b-2b4ae58848a8",
   "metadata": {},
   "outputs": [
    {
     "name": "stdout",
     "output_type": "stream",
     "text": [
      "\u001b[1m1000/1000\u001b[0m \u001b[32m━━━━━━━━━━━━━━━━━━━━\u001b[0m\u001b[37m\u001b[0m \u001b[1m1763s\u001b[0m 2s/step - loss: 0.0065 - kl_divergence: 0.0265\n"
     ]
    }
   ],
   "source": [
    "lrr.fit(X_train, D_train, verbose=1, batch_size=32, optimizer=SGD(2e-3), model=model,\n",
    "        X_val=X_val, D_val=D_val, callbacks=[LDLEarlyStopping(monitor='kl_divergence', patience=None)]);"
   ]
  },
  {
   "cell_type": "code",
   "execution_count": 12,
   "id": "e5d0684f-d1df-4f22-a1d2-f305211cb7b9",
   "metadata": {},
   "outputs": [
    {
     "name": "stdout",
     "output_type": "stream",
     "text": [
      "chebyshev: 0.0680\n",
      "clark: 0.2625\n",
      "canberra: 0.5416\n",
      "kl_divergence: 0.0286\n",
      "cosine: 0.9729\n",
      "intersection: 0.9099\n"
     ]
    }
   ],
   "source": [
    "scores = lrr.score(X[test], D[test], return_dict=True)\n",
    "for (k, v) in scores.items():\n",
    "    print(f\"{k}: {v:.4f}\")"
   ]
  },
  {
   "cell_type": "code",
   "execution_count": 13,
   "id": "d922986d",
   "metadata": {},
   "outputs": [],
   "source": [
    "# Windows\n",
    "# fer.extract_ck_plus('./CK+/', './CK+/features/', './OpenFace_2.2.0_win_x64/')"
   ]
  },
  {
   "cell_type": "code",
   "execution_count": 14,
   "id": "0360401f",
   "metadata": {},
   "outputs": [],
   "source": [
    "X, labels, fps, aus = fer.load_ck_plus('./CK+/', './CK+/features/')"
   ]
  },
  {
   "cell_type": "code",
   "execution_count": 15,
   "id": "9f806fd9-d399-437e-9c48-1f20cffe500b",
   "metadata": {},
   "outputs": [],
   "source": [
    "L = keras.utils.to_categorical(labels)"
   ]
  },
  {
   "cell_type": "code",
   "execution_count": 16,
   "id": "e3bc6a1a-13bc-4b4a-8188-e1e39d9262b3",
   "metadata": {},
   "outputs": [],
   "source": [
    "temp, test = train_test_split(np.arange(X.shape[0]), test_size=0.1, random_state=0)\n",
    "X_train, X_val, L_train, L_val = train_test_split(X[temp], L[temp], test_size=0.1, random_state=0)"
   ]
  },
  {
   "cell_type": "code",
   "execution_count": 17,
   "id": "152c3983",
   "metadata": {},
   "outputs": [],
   "source": [
    "alsg = fer.LDL_ALSG()"
   ]
  },
  {
   "cell_type": "code",
   "execution_count": 18,
   "id": "d0c46cfd",
   "metadata": {},
   "outputs": [
    {
     "name": "stdout",
     "output_type": "stream",
     "text": [
      "\u001b[1m1000/1000\u001b[0m \u001b[32m━━━━━━━━━━━━━━━━━━━━\u001b[0m\u001b[37m\u001b[0m \u001b[1m2410s\u001b[0m 2s/step - loss: 7.7337\n"
     ]
    }
   ],
   "source": [
    "alsg.fit(X_train, L_train, fps, aus, verbose=1, batch_size=32, optimizer=SGD(1e-4),\n",
    "         X_val=X_val, L_val=L_val, callbacks=[LDLEarlyStopping(monitor='loss', patience=None)]);"
   ]
  },
  {
   "cell_type": "code",
   "execution_count": 19,
   "id": "fbdebe99-6171-4c48-909f-f676fcda0032",
   "metadata": {},
   "outputs": [
    {
     "name": "stdout",
     "output_type": "stream",
     "text": [
      "accuracy: 0.9032\n"
     ]
    }
   ],
   "source": [
    "scores = alsg.score(X[test], L[test], return_dict=True)\n",
    "for (k, v) in scores.items():\n",
    "    print(f\"{k}: {v:.4f}\")"
   ]
  },
  {
   "cell_type": "code",
   "execution_count": null,
   "id": "68ded48b-2ba6-4ee6-9996-00a7efc78663",
   "metadata": {},
   "outputs": [],
   "source": []
  }
 ],
 "metadata": {
  "kernelspec": {
   "display_name": "Python 3 (ipykernel)",
   "language": "python",
   "name": "python3"
  },
  "language_info": {
   "codemirror_mode": {
    "name": "ipython",
    "version": 3
   },
   "file_extension": ".py",
   "mimetype": "text/x-python",
   "name": "python",
   "nbconvert_exporter": "python",
   "pygments_lexer": "ipython3",
   "version": "3.10.12"
  }
 },
 "nbformat": 4,
 "nbformat_minor": 5
}
