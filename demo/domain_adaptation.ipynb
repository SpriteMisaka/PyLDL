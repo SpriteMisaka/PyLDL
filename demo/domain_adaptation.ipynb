{
 "cells": [
  {
   "cell_type": "code",
   "execution_count": 1,
   "id": "d0091ac1-53cc-4ee4-bc07-49781ba7d2d6",
   "metadata": {},
   "outputs": [],
   "source": [
    "from pyldl.algorithms import LDL_DA"
   ]
  },
  {
   "cell_type": "code",
   "execution_count": 2,
   "id": "2557724c-4e93-46db-811f-1fbef8a9adda",
   "metadata": {},
   "outputs": [],
   "source": [
    "from pyldl.applications import facial_emotion_recognition as fer\n",
    "from pyldl.utils import LDLEarlyStopping"
   ]
  },
  {
   "cell_type": "code",
   "execution_count": 3,
   "id": "fc3b5a52-0ba2-493a-9f2d-c4c50428c571",
   "metadata": {},
   "outputs": [],
   "source": [
    "from sklearn.model_selection import train_test_split\n",
    "from keras.optimizers import Adam\n",
    "import keras"
   ]
  },
  {
   "cell_type": "code",
   "execution_count": 4,
   "id": "2909cce7-2430-43c8-8c36-776501047baf",
   "metadata": {},
   "outputs": [],
   "source": [
    "sX, sD = fer.load_bu_3dfe('BU-3DFE/', size=(128, 128))"
   ]
  },
  {
   "cell_type": "code",
   "execution_count": 5,
   "id": "00cbde42-12e9-4324-96df-01b9770b8f2e",
   "metadata": {},
   "outputs": [],
   "source": [
    "tX, tD = fer.load_jaffe('jaffe/', size=(128, 128))"
   ]
  },
  {
   "cell_type": "code",
   "execution_count": 6,
   "id": "3bbd45b3-4e23-4e67-bc42-ef3529aab309",
   "metadata": {},
   "outputs": [],
   "source": [
    "sD = LDL_DA.reorder_D(sD, LDL_DA.ORDER_SBU_3DFE)"
   ]
  },
  {
   "cell_type": "code",
   "execution_count": 7,
   "id": "c1162e09-fb48-4d8e-b51b-3b7880f3e959",
   "metadata": {},
   "outputs": [],
   "source": [
    "tX_temp, tX_test, tD_temp, tD_test = train_test_split(tX, tD, train_size=int(tD.shape[1]*12.5), random_state=0)\n",
    "tX_train, tX_val, tD_train, tD_val = train_test_split(tX_temp, tD_temp, test_size=.2, random_state=0)"
   ]
  },
  {
   "cell_type": "code",
   "execution_count": 8,
   "id": "736f2ac8-87ab-47ad-a097-4a2bdbd2db06",
   "metadata": {},
   "outputs": [],
   "source": [
    "model = LDL_DA()"
   ]
  },
  {
   "cell_type": "code",
   "execution_count": 9,
   "id": "6de967eb-faa2-499f-a58e-de60ff39a4a0",
   "metadata": {},
   "outputs": [],
   "source": [
    "enc_inputs = keras.Input(shape=sX.shape[1:])\n",
    "encodes = keras.applications.ResNet50(include_top=False, weights='imagenet', input_shape=(128, 128, 3))(enc_inputs)\n",
    "pooling = keras.layers.GlobalAveragePooling2D()(encodes)\n",
    "encoder = keras.Model(inputs=enc_inputs, outputs=pooling)"
   ]
  },
  {
   "cell_type": "code",
   "execution_count": 10,
   "id": "21b89572-3c49-4407-9491-6566ad02eeec",
   "metadata": {},
   "outputs": [],
   "source": [
    "dec_inputs = keras.Input(shape=(pooling.shape[1],))\n",
    "outputs = keras.layers.Dense(sD.shape[1], activation='softmax')(dec_inputs)\n",
    "decoder = keras.Model(inputs=dec_inputs, outputs=outputs)"
   ]
  },
  {
   "cell_type": "code",
   "execution_count": 11,
   "id": "1f406941-9832-46f5-9bc5-608dea9a2e57",
   "metadata": {},
   "outputs": [
    {
     "name": "stdout",
     "output_type": "stream",
     "text": [
      "\u001b[1m1000/1000\u001b[0m \u001b[32m━━━━━━━━━━━━━━━━━━━━\u001b[0m\u001b[37m\u001b[0m \u001b[1m17913s\u001b[0m 18s/step - loss: 2.1444 - kl_divergence: 0.0439\n",
      "\u001b[1m1000/1000\u001b[0m \u001b[32m━━━━━━━━━━━━━━━━━━━━\u001b[0m\u001b[37m\u001b[0m \u001b[1m326s\u001b[0m 326ms/step - loss: 0.0268 - kl_divergence: 0.0269\n"
     ]
    }
   ],
   "source": [
    "model.fit(sX, sD, tX_train, tD_train, batch_size=128, model={'encoder': encoder, 'decoder': decoder},\n",
    "          margin=1., optimizer=Adam(1e-5), ft_optimizer=Adam(1e-5), verbose=1,\n",
    "          X_val=tX_val, D_val=tD_val, callbacks=[LDLEarlyStopping(monitor='kl_divergence', patience=None)]);"
   ]
  },
  {
   "cell_type": "code",
   "execution_count": 12,
   "id": "1fbcd9dc-3661-4ad0-b5fa-042a6174a362",
   "metadata": {},
   "outputs": [
    {
     "name": "stdout",
     "output_type": "stream",
     "text": [
      "chebyshev: 0.0809\n",
      "clark: 0.2999\n",
      "canberra: 0.6386\n",
      "kl_divergence: 0.0340\n",
      "cosine: 0.9679\n",
      "intersection: 0.8923\n"
     ]
    }
   ],
   "source": [
    "scores = model.score(tX_test, tD_test, return_dict=True)\n",
    "for (k, v) in scores.items():\n",
    "    print(f\"{k}: {v:.4f}\")"
   ]
  },
  {
   "cell_type": "code",
   "execution_count": null,
   "id": "98f29183-7d41-4536-bd0e-585f55bf82a7",
   "metadata": {},
   "outputs": [],
   "source": []
  }
 ],
 "metadata": {
  "kernelspec": {
   "display_name": "Python 3 (ipykernel)",
   "language": "python",
   "name": "python3"
  },
  "language_info": {
   "codemirror_mode": {
    "name": "ipython",
    "version": 3
   },
   "file_extension": ".py",
   "mimetype": "text/x-python",
   "name": "python",
   "nbconvert_exporter": "python",
   "pygments_lexer": "ipython3",
   "version": "3.10.12"
  }
 },
 "nbformat": 4,
 "nbformat_minor": 5
}
