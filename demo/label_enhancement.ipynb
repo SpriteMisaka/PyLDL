{
 "cells": [
  {
   "cell_type": "code",
   "execution_count": 1,
   "id": "bae2a065-754b-4016-8be2-90071c6a9955",
   "metadata": {},
   "outputs": [],
   "source": [
    "import pandas as pd"
   ]
  },
  {
   "cell_type": "code",
   "execution_count": 2,
   "id": "e8e210bb-f06f-4fe9-a48b-0a9764c87644",
   "metadata": {},
   "outputs": [],
   "source": [
    "from pyldl.algorithms import LP, GLLE\n",
    "from pyldl.utils import load_dataset, binaryzation"
   ]
  },
  {
   "cell_type": "code",
   "execution_count": 3,
   "id": "3cb02480-cc83-4d9b-ab97-b52cf5e90aa7",
   "metadata": {},
   "outputs": [],
   "source": [
    "from pyldl.metrics import score"
   ]
  },
  {
   "cell_type": "code",
   "execution_count": 4,
   "id": "775db141-af3f-4e3e-9267-63568f88ac30",
   "metadata": {},
   "outputs": [],
   "source": [
    "X, y = load_dataset('Yeast_cold')"
   ]
  },
  {
   "cell_type": "code",
   "execution_count": 5,
   "id": "ef9cdbf5-4316-4b9a-901b-73f4fbc0c41d",
   "metadata": {},
   "outputs": [],
   "source": [
    "l = binaryzation(y)"
   ]
  },
  {
   "cell_type": "code",
   "execution_count": 6,
   "id": "1dbc5d27-b066-4f3b-bdd3-0d03f848ee54",
   "metadata": {},
   "outputs": [],
   "source": [
    "metrics=[\"chebyshev\", \"clark\", \"canberra\", \"kl_divergence\", \"cosine\", \"intersection\"]"
   ]
  },
  {
   "cell_type": "code",
   "execution_count": 7,
   "id": "5fa175ff-cae2-4c46-a71a-88d6b4b277e6",
   "metadata": {},
   "outputs": [],
   "source": [
    "lp = LP()"
   ]
  },
  {
   "cell_type": "code",
   "execution_count": 8,
   "id": "ac226bcb-13e0-4b2a-a52e-319c8a9b39c3",
   "metadata": {},
   "outputs": [],
   "source": [
    "y_recovered = lp.fit_transform(X, l)"
   ]
  },
  {
   "cell_type": "code",
   "execution_count": 9,
   "id": "ae3c79b7-2ba3-40f7-9e62-6156e42da0d4",
   "metadata": {},
   "outputs": [
    {
     "name": "stdout",
     "output_type": "stream",
     "text": [
      "chebyshev        0.061907\n",
      "clark            0.181055\n",
      "canberra         0.325005\n",
      "kl_divergence    0.017007\n",
      "cosine           0.984596\n",
      "intersection     0.921071\n",
      "dtype: float64\n"
     ]
    }
   ],
   "source": [
    "print(pd.Series(score(y, y_recovered, metrics=metrics), index=metrics))"
   ]
  },
  {
   "cell_type": "code",
   "execution_count": 10,
   "id": "b25eb7c8-a143-49e2-a1ec-5691a5fe3c5f",
   "metadata": {},
   "outputs": [],
   "source": [
    "glle = GLLE()"
   ]
  },
  {
   "cell_type": "code",
   "execution_count": 11,
   "id": "ec757494-ca57-4aad-8002-feb24bb9e672",
   "metadata": {},
   "outputs": [],
   "source": [
    "y_recovered = glle.fit_transform(X, l)"
   ]
  },
  {
   "cell_type": "code",
   "execution_count": 12,
   "id": "73ae7b6b-861a-4833-b5fe-46975273a74d",
   "metadata": {},
   "outputs": [
    {
     "name": "stdout",
     "output_type": "stream",
     "text": [
      "chebyshev        0.061309\n",
      "clark            0.163815\n",
      "canberra         0.283595\n",
      "kl_divergence    0.016310\n",
      "cosine           0.984436\n",
      "intersection     0.929519\n",
      "dtype: float64\n"
     ]
    }
   ],
   "source": [
    "print(pd.Series(score(y, y_recovered, metrics=metrics), index=metrics))"
   ]
  },
  {
   "cell_type": "code",
   "execution_count": null,
   "id": "c4b1ed37-46e4-4143-9e39-e57635d75765",
   "metadata": {},
   "outputs": [],
   "source": []
  }
 ],
 "metadata": {
  "kernelspec": {
   "display_name": "Python 3 (ipykernel)",
   "language": "python",
   "name": "python3"
  },
  "language_info": {
   "codemirror_mode": {
    "name": "ipython",
    "version": 3
   },
   "file_extension": ".py",
   "mimetype": "text/x-python",
   "name": "python",
   "nbconvert_exporter": "python",
   "pygments_lexer": "ipython3",
   "version": "3.10.12"
  }
 },
 "nbformat": 4,
 "nbformat_minor": 5
}
