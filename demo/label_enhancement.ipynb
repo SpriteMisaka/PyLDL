{
 "cells": [
  {
   "cell_type": "code",
   "execution_count": 1,
   "id": "e8e210bb-f06f-4fe9-a48b-0a9764c87644",
   "metadata": {},
   "outputs": [],
   "source": [
    "from pyldl.algorithms import LP, GLLE\n",
    "from pyldl.utils import load_dataset, binaryzation"
   ]
  },
  {
   "cell_type": "code",
   "execution_count": 2,
   "id": "775db141-af3f-4e3e-9267-63568f88ac30",
   "metadata": {},
   "outputs": [],
   "source": [
    "X, D = load_dataset('Yeast_cold')\n",
    "L = binaryzation(D)"
   ]
  },
  {
   "cell_type": "code",
   "execution_count": 3,
   "id": "5fa175ff-cae2-4c46-a71a-88d6b4b277e6",
   "metadata": {},
   "outputs": [],
   "source": [
    "lp = LP()"
   ]
  },
  {
   "cell_type": "code",
   "execution_count": 4,
   "id": "ac226bcb-13e0-4b2a-a52e-319c8a9b39c3",
   "metadata": {},
   "outputs": [],
   "source": [
    "lp.fit(X, L);"
   ]
  },
  {
   "cell_type": "code",
   "execution_count": 5,
   "id": "ae3c79b7-2ba3-40f7-9e62-6156e42da0d4",
   "metadata": {},
   "outputs": [
    {
     "name": "stdout",
     "output_type": "stream",
     "text": [
      "chebyshev: 0.0619\n",
      "clark: 0.1811\n",
      "canberra: 0.3250\n",
      "kl_divergence: 0.0170\n",
      "cosine: 0.9846\n",
      "intersection: 0.9211\n"
     ]
    }
   ],
   "source": [
    "scores = lp.score(D, return_dict=True)\n",
    "for (k, v) in scores.items():\n",
    "    print(f\"{k}: {v:.4f}\")"
   ]
  },
  {
   "cell_type": "code",
   "execution_count": 6,
   "id": "b25eb7c8-a143-49e2-a1ec-5691a5fe3c5f",
   "metadata": {},
   "outputs": [],
   "source": [
    "glle = GLLE()"
   ]
  },
  {
   "cell_type": "code",
   "execution_count": 7,
   "id": "ec757494-ca57-4aad-8002-feb24bb9e672",
   "metadata": {},
   "outputs": [],
   "source": [
    "glle.fit(X, L);"
   ]
  },
  {
   "cell_type": "code",
   "execution_count": 8,
   "id": "73ae7b6b-861a-4833-b5fe-46975273a74d",
   "metadata": {},
   "outputs": [
    {
     "name": "stdout",
     "output_type": "stream",
     "text": [
      "chebyshev: 0.0617\n",
      "clark: 0.1645\n",
      "canberra: 0.2850\n",
      "kl_divergence: 0.0164\n",
      "cosine: 0.9843\n",
      "intersection: 0.9291\n"
     ]
    }
   ],
   "source": [
    "scores = glle.score(D, return_dict=True)\n",
    "for (k, v) in scores.items():\n",
    "    print(f\"{k}: {v:.4f}\")"
   ]
  },
  {
   "cell_type": "code",
   "execution_count": null,
   "id": "c4b1ed37-46e4-4143-9e39-e57635d75765",
   "metadata": {},
   "outputs": [],
   "source": []
  }
 ],
 "metadata": {
  "kernelspec": {
   "display_name": "Python 3 (ipykernel)",
   "language": "python",
   "name": "python3"
  },
  "language_info": {
   "codemirror_mode": {
    "name": "ipython",
    "version": 3
   },
   "file_extension": ".py",
   "mimetype": "text/x-python",
   "name": "python",
   "nbconvert_exporter": "python",
   "pygments_lexer": "ipython3",
   "version": "3.9.17"
  }
 },
 "nbformat": 4,
 "nbformat_minor": 5
}
