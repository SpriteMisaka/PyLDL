{
 "cells": [
  {
   "cell_type": "code",
   "execution_count": 1,
   "id": "2b003f0d",
   "metadata": {},
   "outputs": [],
   "source": [
    "import numpy as np\n",
    "import pandas as pd"
   ]
  },
  {
   "cell_type": "code",
   "execution_count": 2,
   "id": "dbac44ed",
   "metadata": {},
   "outputs": [],
   "source": [
    "from pyldl.algorithms import SA_BFGS, LDL_LRR\n",
    "from pyldl.matlab_algorithms import SA_BFGS as SA_BFGS_MATLAB\n",
    "from pyldl.utils import load_dataset"
   ]
  },
  {
   "cell_type": "code",
   "execution_count": 3,
   "id": "1aac3849",
   "metadata": {},
   "outputs": [],
   "source": [
    "from sklearn.model_selection import KFold"
   ]
  },
  {
   "cell_type": "code",
   "execution_count": 4,
   "id": "e46fda7a",
   "metadata": {},
   "outputs": [],
   "source": [
    "X, y = load_dataset('SJAFFE')"
   ]
  },
  {
   "cell_type": "code",
   "execution_count": 5,
   "id": "ea9a4476",
   "metadata": {},
   "outputs": [],
   "source": [
    "metrics=[\"chebyshev\", \"clark\", \"canberra\", \"kl_divergence\", \"cosine\", \"intersection\"]"
   ]
  },
  {
   "cell_type": "code",
   "execution_count": 6,
   "id": "0be36720",
   "metadata": {
    "scrolled": false
   },
   "outputs": [],
   "source": [
    "def experiment(times, folds, method, X, y, metrics,\n",
    "               random_state=0, **kwargs):\n",
    "    scores = []\n",
    "    for i in range(times):\n",
    "        kfold = KFold(n_splits=folds, shuffle=True, random_state=random_state+i)\n",
    "        for train_index, test_index in kfold.split(X):\n",
    "            model = eval(f'{method}()')\n",
    "            model.fit(X[train_index], y[train_index], **kwargs)\n",
    "            scores.append(model.score(X[test_index], y[test_index], metrics=metrics))\n",
    "    return scores"
   ]
  },
  {
   "cell_type": "code",
   "execution_count": 7,
   "id": "68462263",
   "metadata": {},
   "outputs": [],
   "source": [
    "scores = experiment(times=10, folds=10, method='SA_BFGS', X=X, y=y, metrics=metrics)"
   ]
  },
  {
   "cell_type": "code",
   "execution_count": 8,
   "id": "0676641b",
   "metadata": {},
   "outputs": [
    {
     "name": "stdout",
     "output_type": "stream",
     "text": [
      "chebyshev        0.092961\n",
      "clark            0.361973\n",
      "canberra         0.737703\n",
      "kl_divergence    0.051205\n",
      "cosine           0.953441\n",
      "intersection     0.877506\n",
      "dtype: float64\n"
     ]
    }
   ],
   "source": [
    "print(pd.DataFrame(scores, columns=metrics).mean(axis=0))"
   ]
  },
  {
   "cell_type": "code",
   "execution_count": 9,
   "id": "0606c253",
   "metadata": {},
   "outputs": [],
   "source": [
    "scores = experiment(times=10, folds=10, method='SA_BFGS_MATLAB', X=X, y=y, metrics=metrics)"
   ]
  },
  {
   "cell_type": "code",
   "execution_count": 10,
   "id": "f474bb4b",
   "metadata": {},
   "outputs": [
    {
     "name": "stdout",
     "output_type": "stream",
     "text": [
      "chebyshev        0.104389\n",
      "clark            0.410588\n",
      "canberra         0.842530\n",
      "kl_divergence    0.066776\n",
      "cosine           0.940782\n",
      "intersection     0.860229\n",
      "dtype: float64\n"
     ]
    }
   ],
   "source": [
    "print(pd.DataFrame(scores, columns=metrics).mean(axis=0))"
   ]
  },
  {
   "cell_type": "code",
   "execution_count": 11,
   "id": "df5a37f0",
   "metadata": {},
   "outputs": [],
   "source": [
    "scores = experiment(times=10, folds=5, method='LDL_LRR', X=X, y=y, metrics=metrics, alpha=1e-3)"
   ]
  },
  {
   "cell_type": "code",
   "execution_count": 12,
   "id": "da8df602",
   "metadata": {},
   "outputs": [
    {
     "name": "stdout",
     "output_type": "stream",
     "text": [
      "chebyshev        0.085206\n",
      "clark            0.320938\n",
      "canberra         0.653793\n",
      "kl_divergence    0.040886\n",
      "cosine           0.961719\n",
      "intersection     0.890593\n",
      "dtype: float64\n"
     ]
    }
   ],
   "source": [
    "print(pd.DataFrame(scores, columns=metrics).mean(axis=0))"
   ]
  },
  {
   "cell_type": "code",
   "execution_count": null,
   "id": "74122214",
   "metadata": {},
   "outputs": [],
   "source": []
  }
 ],
 "metadata": {
  "kernelspec": {
   "display_name": "Python 3 (ipykernel)",
   "language": "python",
   "name": "python3"
  },
  "language_info": {
   "codemirror_mode": {
    "name": "ipython",
    "version": 3
   },
   "file_extension": ".py",
   "mimetype": "text/x-python",
   "name": "python",
   "nbconvert_exporter": "python",
   "pygments_lexer": "ipython3",
   "version": "3.9.17"
  }
 },
 "nbformat": 4,
 "nbformat_minor": 5
}
