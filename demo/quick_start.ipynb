{
 "cells": [
  {
   "cell_type": "code",
   "execution_count": 1,
   "id": "dbac44ed",
   "metadata": {},
   "outputs": [],
   "source": [
    "from pyldl.algorithms import SA_BFGS\n",
    "from pyldl.utils import load_dataset"
   ]
  },
  {
   "cell_type": "code",
   "execution_count": 2,
   "id": "1aac3849",
   "metadata": {},
   "outputs": [],
   "source": [
    "from sklearn.model_selection import train_test_split"
   ]
  },
  {
   "cell_type": "code",
   "execution_count": 3,
   "id": "e46fda7a",
   "metadata": {},
   "outputs": [],
   "source": [
    "X, D = load_dataset('SJAFFE')"
   ]
  },
  {
   "cell_type": "code",
   "execution_count": 4,
   "id": "74122214",
   "metadata": {},
   "outputs": [],
   "source": [
    "X_train, X_test, D_train, D_test = train_test_split(X, D, test_size=.1, random_state=0)"
   ]
  },
  {
   "cell_type": "code",
   "execution_count": 5,
   "id": "e2dbf917",
   "metadata": {},
   "outputs": [],
   "source": [
    "model = SA_BFGS()"
   ]
  },
  {
   "cell_type": "code",
   "execution_count": 6,
   "id": "2f8cf782",
   "metadata": {},
   "outputs": [],
   "source": [
    "model.fit(X_train, D_train)"
   ]
  },
  {
   "cell_type": "code",
   "execution_count": 7,
   "id": "0db0f13a",
   "metadata": {},
   "outputs": [
    {
     "name": "stdout",
     "output_type": "stream",
     "text": [
      "chebyshev: 0.0873\n",
      "clark: 0.3236\n",
      "canberra: 0.6533\n",
      "kl_divergence: 0.0385\n",
      "cosine: 0.9651\n",
      "intersection: 0.8897\n"
     ]
    }
   ],
   "source": [
    "scores = model.score(X_test, D_test, return_dict=True)\n",
    "for (k, v) in scores.items():\n",
    "    print(f\"{k}: {v:.4f}\")"
   ]
  },
  {
   "cell_type": "code",
   "execution_count": null,
   "id": "8c297d1d",
   "metadata": {},
   "outputs": [],
   "source": []
  }
 ],
 "metadata": {
  "kernelspec": {
   "display_name": "Python 3 (ipykernel)",
   "language": "python",
   "name": "python3"
  },
  "language_info": {
   "codemirror_mode": {
    "name": "ipython",
    "version": 3
   },
   "file_extension": ".py",
   "mimetype": "text/x-python",
   "name": "python",
   "nbconvert_exporter": "python",
   "pygments_lexer": "ipython3",
   "version": "3.9.17"
  }
 },
 "nbformat": 4,
 "nbformat_minor": 5
}
