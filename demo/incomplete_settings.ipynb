{
 "cells": [
  {
   "cell_type": "code",
   "execution_count": 1,
   "id": "3de65527-d8f4-4560-a8c6-fda2b9427978",
   "metadata": {},
   "outputs": [],
   "source": [
    "from pyldl.algorithms import IncomLDL, WInLDL, SA_BFGS\n",
    "from pyldl.utils import load_dataset, random_missing"
   ]
  },
  {
   "cell_type": "code",
   "execution_count": 2,
   "id": "29aaa715-d3c9-4b63-a261-b3ba0e39ce6a",
   "metadata": {},
   "outputs": [],
   "source": [
    "X, D = load_dataset('SJAFFE')\n",
    "D_missing, mask = random_missing(D, missing_rate=.8)"
   ]
  },
  {
   "cell_type": "code",
   "execution_count": 3,
   "id": "b0173ca3-3b85-4d1f-922d-626a6b2be93f",
   "metadata": {},
   "outputs": [],
   "source": [
    "incomldl = IncomLDL()"
   ]
  },
  {
   "cell_type": "code",
   "execution_count": 4,
   "id": "a6cb3772-bd32-42d7-9d42-fc0fea4c9d0a",
   "metadata": {},
   "outputs": [],
   "source": [
    "incomldl.fit(X, D_missing, mask=mask);"
   ]
  },
  {
   "cell_type": "code",
   "execution_count": 5,
   "id": "96c5634f-7190-414c-9f22-117afe6a60c8",
   "metadata": {},
   "outputs": [
    {
     "name": "stdout",
     "output_type": "stream",
     "text": [
      "chebyshev: 0.0965\n",
      "clark: 0.3430\n",
      "canberra: 0.6581\n",
      "kl_divergence: 0.0517\n",
      "cosine: 0.9508\n",
      "intersection: 0.8870\n"
     ]
    }
   ],
   "source": [
    "scores = incomldl.score(X, D, return_dict=True)\n",
    "for (k, v) in scores.items():\n",
    "    print(f\"{k}: {v:.4f}\")"
   ]
  },
  {
   "cell_type": "code",
   "execution_count": 6,
   "id": "3da583a8",
   "metadata": {},
   "outputs": [],
   "source": [
    "winldl = WInLDL()"
   ]
  },
  {
   "cell_type": "code",
   "execution_count": 7,
   "id": "9880abd0",
   "metadata": {},
   "outputs": [],
   "source": [
    "winldl.fit(X, D_missing, mask=mask);"
   ]
  },
  {
   "cell_type": "code",
   "execution_count": 8,
   "id": "26195ba8",
   "metadata": {},
   "outputs": [
    {
     "name": "stdout",
     "output_type": "stream",
     "text": [
      "chebyshev: 0.0813\n",
      "clark: 0.3170\n",
      "canberra: 0.6076\n",
      "kl_divergence: 0.0567\n",
      "cosine: 0.9643\n",
      "intersection: 0.9004\n"
     ]
    }
   ],
   "source": [
    "scores = winldl.score(X, D, return_dict=True)\n",
    "for (k, v) in scores.items():\n",
    "    print(f\"{k}: {v:.4f}\")"
   ]
  },
  {
   "cell_type": "code",
   "execution_count": 9,
   "id": "2aaef4f3-2ab9-4630-ad82-742511e1c599",
   "metadata": {},
   "outputs": [],
   "source": [
    "bfgs = SA_BFGS()"
   ]
  },
  {
   "cell_type": "code",
   "execution_count": 10,
   "id": "e411e05d-40ce-4d5e-8316-bb243529043b",
   "metadata": {},
   "outputs": [],
   "source": [
    "bfgs.fit(X, D_missing);"
   ]
  },
  {
   "cell_type": "code",
   "execution_count": 11,
   "id": "0af220c7-9a88-4fb9-91f6-1764b5c4adac",
   "metadata": {},
   "outputs": [
    {
     "name": "stdout",
     "output_type": "stream",
     "text": [
      "chebyshev: 0.1198\n",
      "clark: 0.4265\n",
      "canberra: 0.8902\n",
      "kl_divergence: 0.0728\n",
      "cosine: 0.9313\n",
      "intersection: 0.8484\n"
     ]
    }
   ],
   "source": [
    "scores = bfgs.score(X, D, return_dict=True)\n",
    "for (k, v) in scores.items():\n",
    "    print(f\"{k}: {v:.4f}\")"
   ]
  },
  {
   "cell_type": "code",
   "execution_count": null,
   "id": "133b36c0-f990-4400-a0c4-04bff0e9f39d",
   "metadata": {},
   "outputs": [],
   "source": []
  }
 ],
 "metadata": {
  "kernelspec": {
   "display_name": "Python 3 (ipykernel)",
   "language": "python",
   "name": "python3"
  },
  "language_info": {
   "codemirror_mode": {
    "name": "ipython",
    "version": 3
   },
   "file_extension": ".py",
   "mimetype": "text/x-python",
   "name": "python",
   "nbconvert_exporter": "python",
   "pygments_lexer": "ipython3",
   "version": "3.9.17"
  }
 },
 "nbformat": 4,
 "nbformat_minor": 5
}
