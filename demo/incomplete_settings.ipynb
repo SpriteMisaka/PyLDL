{
 "cells": [
  {
   "cell_type": "code",
   "execution_count": 1,
   "id": "50d0d065-c35e-4eed-b263-72b6e33a1390",
   "metadata": {},
   "outputs": [],
   "source": [
    "import pandas as pd"
   ]
  },
  {
   "cell_type": "code",
   "execution_count": 2,
   "id": "3de65527-d8f4-4560-a8c6-fda2b9427978",
   "metadata": {},
   "outputs": [],
   "source": [
    "from pyldl.algorithms import IncomLDL, WInLDL, SA_BFGS\n",
    "from pyldl.utils import load_dataset, random_missing"
   ]
  },
  {
   "cell_type": "code",
   "execution_count": 3,
   "id": "29aaa715-d3c9-4b63-a261-b3ba0e39ce6a",
   "metadata": {},
   "outputs": [],
   "source": [
    "X, y = load_dataset('SJAFFE')"
   ]
  },
  {
   "cell_type": "code",
   "execution_count": 4,
   "id": "0090c620-7bb0-4c85-b8f3-a2f3e37bdd6d",
   "metadata": {},
   "outputs": [],
   "source": [
    "y_missing, mask = random_missing(y, missing_rate=.8)"
   ]
  },
  {
   "cell_type": "code",
   "execution_count": 5,
   "id": "30dbbe53-1a71-4b95-83c6-e6e39f12bbec",
   "metadata": {},
   "outputs": [],
   "source": [
    "metrics=[\"chebyshev\", \"clark\", \"canberra\", \"kl_divergence\", \"cosine\", \"intersection\"]"
   ]
  },
  {
   "cell_type": "code",
   "execution_count": 6,
   "id": "b0173ca3-3b85-4d1f-922d-626a6b2be93f",
   "metadata": {},
   "outputs": [],
   "source": [
    "incomldl = IncomLDL()"
   ]
  },
  {
   "cell_type": "code",
   "execution_count": 7,
   "id": "a6cb3772-bd32-42d7-9d42-fc0fea4c9d0a",
   "metadata": {},
   "outputs": [],
   "source": [
    "incomldl.fit(X, y_missing, mask=mask);"
   ]
  },
  {
   "cell_type": "code",
   "execution_count": 8,
   "id": "96c5634f-7190-414c-9f22-117afe6a60c8",
   "metadata": {},
   "outputs": [
    {
     "name": "stdout",
     "output_type": "stream",
     "text": [
      "chebyshev        0.103008\n",
      "clark            0.366500\n",
      "canberra         0.699817\n",
      "kl_divergence    0.057294\n",
      "cosine           0.945605\n",
      "intersection     0.879389\n",
      "dtype: float64\n"
     ]
    }
   ],
   "source": [
    "print(pd.Series(incomldl.score(X, y), index=metrics))"
   ]
  },
  {
   "cell_type": "code",
   "execution_count": 9,
   "id": "3da583a8",
   "metadata": {},
   "outputs": [],
   "source": [
    "winldl = WInLDL()"
   ]
  },
  {
   "cell_type": "code",
   "execution_count": 10,
   "id": "9880abd0",
   "metadata": {},
   "outputs": [],
   "source": [
    "winldl.fit(X, y_missing, mask=mask);"
   ]
  },
  {
   "cell_type": "code",
   "execution_count": 11,
   "id": "26195ba8",
   "metadata": {},
   "outputs": [
    {
     "name": "stdout",
     "output_type": "stream",
     "text": [
      "chebyshev        0.086545\n",
      "clark            0.326738\n",
      "canberra         0.628083\n",
      "kl_divergence    0.041396\n",
      "cosine           0.961706\n",
      "intersection     0.894525\n",
      "dtype: float64\n"
     ]
    }
   ],
   "source": [
    "print(pd.Series(winldl.score(X, y), index=metrics))"
   ]
  },
  {
   "cell_type": "code",
   "execution_count": 12,
   "id": "2aaef4f3-2ab9-4630-ad82-742511e1c599",
   "metadata": {},
   "outputs": [],
   "source": [
    "bfgs = SA_BFGS()"
   ]
  },
  {
   "cell_type": "code",
   "execution_count": 13,
   "id": "e411e05d-40ce-4d5e-8316-bb243529043b",
   "metadata": {},
   "outputs": [],
   "source": [
    "bfgs.fit(X, y_missing);"
   ]
  },
  {
   "cell_type": "code",
   "execution_count": 14,
   "id": "0af220c7-9a88-4fb9-91f6-1764b5c4adac",
   "metadata": {},
   "outputs": [
    {
     "name": "stdout",
     "output_type": "stream",
     "text": [
      "chebyshev        0.120316\n",
      "clark            0.429790\n",
      "canberra         0.902958\n",
      "kl_divergence    0.074000\n",
      "cosine           0.930210\n",
      "intersection     0.846223\n",
      "dtype: float64\n"
     ]
    }
   ],
   "source": [
    "print(pd.Series(bfgs.score(X, y), index=metrics))"
   ]
  },
  {
   "cell_type": "code",
   "execution_count": null,
   "id": "133b36c0-f990-4400-a0c4-04bff0e9f39d",
   "metadata": {},
   "outputs": [],
   "source": []
  }
 ],
 "metadata": {
  "kernelspec": {
   "display_name": "Python 3 (ipykernel)",
   "language": "python",
   "name": "python3"
  },
  "language_info": {
   "codemirror_mode": {
    "name": "ipython",
    "version": 3
   },
   "file_extension": ".py",
   "mimetype": "text/x-python",
   "name": "python",
   "nbconvert_exporter": "python",
   "pygments_lexer": "ipython3",
   "version": "3.9.17"
  }
 },
 "nbformat": 4,
 "nbformat_minor": 5
}
